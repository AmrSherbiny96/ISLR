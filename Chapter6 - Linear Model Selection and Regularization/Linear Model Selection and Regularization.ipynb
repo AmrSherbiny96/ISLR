{
 "cells": [
  {
   "cell_type": "code",
   "execution_count": 1,
   "id": "1385a681",
   "metadata": {},
   "outputs": [],
   "source": [
    "import numpy as np\n",
    "import statsmodels.api as sm\n",
    "import itertools\n",
    "import matplotlib.pyplot as plt\n",
    "from sklearn.linear_model import LassoCV\n",
    "from sklearn.metrics import mean_squared_error\n",
    "from sklearn.model_selection import train_test_split\n",
    "from sklearn.decomposition import PCA\n",
    "from sklearn.model_selection import KFold\n",
    "from sklearn.linear_model import RidgeCV\n",
    "from sklearn.pipeline import Pipeline\n",
    "from sklearn.preprocessing import StandardScaler"
   ]
  },
  {
   "cell_type": "code",
   "execution_count": 5,
   "id": "52baa54c",
   "metadata": {},
   "outputs": [],
   "source": [
    "import warnings\n",
    "warnings.simplefilter(action='ignore', category=FutureWarning)\n",
    "\n",
    "import pandas as pd"
   ]
  },
  {
   "cell_type": "markdown",
   "id": "91492e33",
   "metadata": {},
   "source": [
    "### Helper functions"
   ]
  },
  {
   "cell_type": "code",
   "execution_count": 3,
   "id": "acba3be5",
   "metadata": {},
   "outputs": [],
   "source": [
    "def generateRandomDf(size=100, feature_powers=[1,2,3], target_powers=[1,2,3]):\n",
    "    '''Generate a random data frame where target is a linear combination\n",
    "        of powers of a random normal variable'''\n",
    "    \n",
    "    X = np.random.normal(size=size)\n",
    "    e = np.random.normal(size=size)\n",
    "\n",
    "    data = {}\n",
    "    for p in feature_powers:\n",
    "        data[f\"X{p}\"] = np.power(X, p)\n",
    "\n",
    "    betas = np.random.normal(size=len(feature_powers)+1)\n",
    "    data[\"Y\"] = betas[0]\n",
    "    \n",
    "    for i, power in enumerate(target_powers):\n",
    "        data[\"Y\"] += (betas[i+1] * np.power(X, power))\n",
    "            \n",
    "    data[\"Y\"] += e\n",
    "    \n",
    "    df = pd.DataFrame.from_dict(data)\n",
    "    return df\n",
    "\n",
    "def fitModel(X, y):\n",
    "    '''Fit OLS model'''\n",
    "    X = sm.add_constant(X)\n",
    "    result = sm.OLS(y, X).fit()\n",
    "    return result\n",
    "\n",
    "def evaluateOLS(X, y, model):\n",
    "    '''Evaluate OLS model'''\n",
    "    X = sm.add_constant(X)\n",
    "    test_preds = model.predict(X)\n",
    "    mse = mean_squared_error(test_preds, y)\n",
    "    return mse\n",
    "    \n",
    "def highlightRow(row, target_col, val):\n",
    "    '''Highlight a row containing\n",
    "        best value of DataFrame'''\n",
    "    if row[target_col] == val:\n",
    "        return ['background-color: lightgreen'] * row.shape[0]\n",
    "        #return ['background-color: lightgreen']*5\n",
    "    else:\n",
    "        return ['background-color: white'] * row.shape[0]\n",
    "        #return ['background-color: white']*5\n",
    "    \n",
    "def subsetSelection(X_train, y_train, max_k, criteria, maximize=False):\n",
    "    '''Perform best subset selection on a DataFrame. All possible feature\n",
    "        combination sizes ranging from 1 to max_k are tried, and features\n",
    "        are selected according to criteria that can be maximized or minimized'''\n",
    "    model_results = {}\n",
    "    models = [None] * (max_k+1)\n",
    "    \n",
    "    for k in range(1, max_k+1):\n",
    "        best_val = float('inf')\n",
    "        print(f\"Performing subset selection for k = {k}\")\n",
    "        for sub_features in itertools.combinations(X_train.columns, k):\n",
    "            model = fitModel(X_train[list(sub_features)], y_train)\n",
    "            result = {\"RSS\": model.ssr, \"R2\": model.rsquared_adj,\n",
    "                      \"AIC\": model.aic, \"BIC\": model.bic,\n",
    "                      \"Features\": list(sub_features)}\n",
    "            \n",
    "            # If we are maximizing, multiply by -1 and minimize\n",
    "            curr_val = result[criteria] if not maximize else -1*result[criteria]\n",
    "            \n",
    "            if(curr_val < best_val):\n",
    "                model_results[k] = result\n",
    "                best_val = curr_val\n",
    "                models[k] = model\n",
    "                \n",
    "    results_df = pd.DataFrame.from_dict(model_results).T\n",
    "    return results_df, models"
   ]
  },
  {
   "cell_type": "markdown",
   "id": "8cb68944",
   "metadata": {},
   "source": [
    "# 8. In this exercise, we will generate simulated data, and will then use this data to perform best subset selection."
   ]
  },
  {
   "cell_type": "markdown",
   "id": "bd33366b",
   "metadata": {},
   "source": [
    "#### (a) Use the rnorm() function to generate a predictor X of length n = 100, as well as a noise vector ϵ of length n = 100.\n",
    "#### (b) Generate a response vector Y of length n = 100 according to the model Y = β0 + β1X + β2X2 + β3X3 + ϵ, where β0, β1, β2, and β3 are constants of your choice."
   ]
  },
  {
   "cell_type": "code",
   "execution_count": 6,
   "id": "c62c18ca",
   "metadata": {},
   "outputs": [
    {
     "data": {
      "text/html": [
       "<div>\n",
       "<style scoped>\n",
       "    .dataframe tbody tr th:only-of-type {\n",
       "        vertical-align: middle;\n",
       "    }\n",
       "\n",
       "    .dataframe tbody tr th {\n",
       "        vertical-align: top;\n",
       "    }\n",
       "\n",
       "    .dataframe thead th {\n",
       "        text-align: right;\n",
       "    }\n",
       "</style>\n",
       "<table border=\"1\" class=\"dataframe\">\n",
       "  <thead>\n",
       "    <tr style=\"text-align: right;\">\n",
       "      <th></th>\n",
       "      <th>X1</th>\n",
       "      <th>X2</th>\n",
       "      <th>X3</th>\n",
       "      <th>X4</th>\n",
       "      <th>X5</th>\n",
       "      <th>X6</th>\n",
       "      <th>X7</th>\n",
       "      <th>X8</th>\n",
       "      <th>X9</th>\n",
       "      <th>X10</th>\n",
       "      <th>Y</th>\n",
       "    </tr>\n",
       "  </thead>\n",
       "  <tbody>\n",
       "    <tr>\n",
       "      <th>0</th>\n",
       "      <td>1.513933</td>\n",
       "      <td>2.291993</td>\n",
       "      <td>3.469923</td>\n",
       "      <td>5.253231e+00</td>\n",
       "      <td>7.953039e+00</td>\n",
       "      <td>1.204037e+01</td>\n",
       "      <td>1.822831e+01</td>\n",
       "      <td>2.759643e+01</td>\n",
       "      <td>4.177915e+01</td>\n",
       "      <td>6.325083e+01</td>\n",
       "      <td>-2.748083</td>\n",
       "    </tr>\n",
       "    <tr>\n",
       "      <th>1</th>\n",
       "      <td>1.557246</td>\n",
       "      <td>2.425016</td>\n",
       "      <td>3.776346</td>\n",
       "      <td>5.880701e+00</td>\n",
       "      <td>9.157699e+00</td>\n",
       "      <td>1.426079e+01</td>\n",
       "      <td>2.220756e+01</td>\n",
       "      <td>3.458264e+01</td>\n",
       "      <td>5.385369e+01</td>\n",
       "      <td>8.386346e+01</td>\n",
       "      <td>-2.994579</td>\n",
       "    </tr>\n",
       "    <tr>\n",
       "      <th>2</th>\n",
       "      <td>-1.358525</td>\n",
       "      <td>1.845589</td>\n",
       "      <td>-2.507279</td>\n",
       "      <td>3.406200e+00</td>\n",
       "      <td>-4.627407e+00</td>\n",
       "      <td>6.286447e+00</td>\n",
       "      <td>-8.540294e+00</td>\n",
       "      <td>1.160220e+01</td>\n",
       "      <td>-1.576188e+01</td>\n",
       "      <td>2.141290e+01</td>\n",
       "      <td>-2.957534</td>\n",
       "    </tr>\n",
       "    <tr>\n",
       "      <th>3</th>\n",
       "      <td>0.011749</td>\n",
       "      <td>0.000138</td>\n",
       "      <td>0.000002</td>\n",
       "      <td>1.905593e-08</td>\n",
       "      <td>2.238915e-10</td>\n",
       "      <td>2.630541e-12</td>\n",
       "      <td>3.090670e-14</td>\n",
       "      <td>3.631283e-16</td>\n",
       "      <td>4.266460e-18</td>\n",
       "      <td>5.012740e-20</td>\n",
       "      <td>1.217420</td>\n",
       "    </tr>\n",
       "    <tr>\n",
       "      <th>4</th>\n",
       "      <td>-0.394186</td>\n",
       "      <td>0.155383</td>\n",
       "      <td>-0.061250</td>\n",
       "      <td>2.414377e-02</td>\n",
       "      <td>-9.517137e-03</td>\n",
       "      <td>3.751523e-03</td>\n",
       "      <td>-1.478798e-03</td>\n",
       "      <td>5.829215e-04</td>\n",
       "      <td>-2.297795e-04</td>\n",
       "      <td>9.057590e-05</td>\n",
       "      <td>-0.156687</td>\n",
       "    </tr>\n",
       "  </tbody>\n",
       "</table>\n",
       "</div>"
      ],
      "text/plain": [
       "         X1        X2        X3            X4            X5            X6  \\\n",
       "0  1.513933  2.291993  3.469923  5.253231e+00  7.953039e+00  1.204037e+01   \n",
       "1  1.557246  2.425016  3.776346  5.880701e+00  9.157699e+00  1.426079e+01   \n",
       "2 -1.358525  1.845589 -2.507279  3.406200e+00 -4.627407e+00  6.286447e+00   \n",
       "3  0.011749  0.000138  0.000002  1.905593e-08  2.238915e-10  2.630541e-12   \n",
       "4 -0.394186  0.155383 -0.061250  2.414377e-02 -9.517137e-03  3.751523e-03   \n",
       "\n",
       "             X7            X8            X9           X10         Y  \n",
       "0  1.822831e+01  2.759643e+01  4.177915e+01  6.325083e+01 -2.748083  \n",
       "1  2.220756e+01  3.458264e+01  5.385369e+01  8.386346e+01 -2.994579  \n",
       "2 -8.540294e+00  1.160220e+01 -1.576188e+01  2.141290e+01 -2.957534  \n",
       "3  3.090670e-14  3.631283e-16  4.266460e-18  5.012740e-20  1.217420  \n",
       "4 -1.478798e-03  5.829215e-04 -2.297795e-04  9.057590e-05 -0.156687  "
      ]
     },
     "execution_count": 6,
     "metadata": {},
     "output_type": "execute_result"
    }
   ],
   "source": [
    "feature_powers = np.arange(1, 11)\n",
    "target_powers = np.arange(1, 4)\n",
    "\n",
    "df = generateRandomDf(feature_powers=feature_powers, target_powers=target_powers)\n",
    "df.head()"
   ]
  },
  {
   "cell_type": "markdown",
   "id": "702475d8",
   "metadata": {},
   "source": [
    "### (c) Use the regsubsets() function to perform best subset selection in order to choose the best model containing the predictors X, X2,...,X10. What is the best model obtained according to Cp, BIC, and adjusted R2?\n",
    "\n",
    "Using max R2 as the criterion, we correctly obtain the 3 correct features X1, X2, X3 along with X10. Whereas if we minimize AIC, we obtain only X1, X2, and X3. Finally, if we minimize BIC, we obtain best result with X2 and X5. "
   ]
  },
  {
   "cell_type": "code",
   "execution_count": 7,
   "id": "6e90c0d7",
   "metadata": {},
   "outputs": [
    {
     "name": "stdout",
     "output_type": "stream",
     "text": [
      "Performing subset selection for k = 1\n",
      "Performing subset selection for k = 2\n",
      "Performing subset selection for k = 3\n",
      "Performing subset selection for k = 4\n",
      "Performing subset selection for k = 5\n",
      "Performing subset selection for k = 6\n",
      "Performing subset selection for k = 7\n",
      "Performing subset selection for k = 8\n",
      "Performing subset selection for k = 9\n",
      "Performing subset selection for k = 10\n"
     ]
    },
    {
     "data": {
      "text/html": [
       "<style type=\"text/css\">\n",
       "#T_01132_row0_col0, #T_01132_row0_col1, #T_01132_row0_col2, #T_01132_row0_col3, #T_01132_row0_col4, #T_01132_row1_col0, #T_01132_row1_col1, #T_01132_row1_col2, #T_01132_row1_col3, #T_01132_row1_col4, #T_01132_row2_col0, #T_01132_row2_col1, #T_01132_row2_col2, #T_01132_row2_col3, #T_01132_row2_col4, #T_01132_row4_col0, #T_01132_row4_col1, #T_01132_row4_col2, #T_01132_row4_col3, #T_01132_row4_col4, #T_01132_row5_col0, #T_01132_row5_col1, #T_01132_row5_col2, #T_01132_row5_col3, #T_01132_row5_col4, #T_01132_row6_col0, #T_01132_row6_col1, #T_01132_row6_col2, #T_01132_row6_col3, #T_01132_row6_col4, #T_01132_row7_col0, #T_01132_row7_col1, #T_01132_row7_col2, #T_01132_row7_col3, #T_01132_row7_col4, #T_01132_row8_col0, #T_01132_row8_col1, #T_01132_row8_col2, #T_01132_row8_col3, #T_01132_row8_col4, #T_01132_row9_col0, #T_01132_row9_col1, #T_01132_row9_col2, #T_01132_row9_col3, #T_01132_row9_col4 {\n",
       "  background-color: white;\n",
       "}\n",
       "#T_01132_row3_col0, #T_01132_row3_col1, #T_01132_row3_col2, #T_01132_row3_col3, #T_01132_row3_col4 {\n",
       "  background-color: lightgreen;\n",
       "}\n",
       "</style>\n",
       "<table id=\"T_01132_\">\n",
       "  <thead>\n",
       "    <tr>\n",
       "      <th class=\"blank level0\" >&nbsp;</th>\n",
       "      <th class=\"col_heading level0 col0\" >RSS</th>\n",
       "      <th class=\"col_heading level0 col1\" >R2</th>\n",
       "      <th class=\"col_heading level0 col2\" >AIC</th>\n",
       "      <th class=\"col_heading level0 col3\" >BIC</th>\n",
       "      <th class=\"col_heading level0 col4\" >Features</th>\n",
       "    </tr>\n",
       "  </thead>\n",
       "  <tbody>\n",
       "    <tr>\n",
       "      <th id=\"T_01132_level0_row0\" class=\"row_heading level0 row0\" >1</th>\n",
       "      <td id=\"T_01132_row0_col0\" class=\"data row0 col0\" >187.123739</td>\n",
       "      <td id=\"T_01132_row0_col1\" class=\"data row0 col1\" >0.843399</td>\n",
       "      <td id=\"T_01132_row0_col2\" class=\"data row0 col2\" >350.447698</td>\n",
       "      <td id=\"T_01132_row0_col3\" class=\"data row0 col3\" >355.658039</td>\n",
       "      <td id=\"T_01132_row0_col4\" class=\"data row0 col4\" >['X4']</td>\n",
       "    </tr>\n",
       "    <tr>\n",
       "      <th id=\"T_01132_level0_row1\" class=\"row_heading level0 row1\" >2</th>\n",
       "      <td id=\"T_01132_row1_col0\" class=\"data row1 col0\" >83.489444</td>\n",
       "      <td id=\"T_01132_row1_col1\" class=\"data row1 col1\" >0.929409</td>\n",
       "      <td id=\"T_01132_row1_col2\" class=\"data row1 col2\" >271.742709</td>\n",
       "      <td id=\"T_01132_row1_col3\" class=\"data row1 col3\" >279.558219</td>\n",
       "      <td id=\"T_01132_row1_col4\" class=\"data row1 col4\" >['X2', 'X5']</td>\n",
       "    </tr>\n",
       "    <tr>\n",
       "      <th id=\"T_01132_level0_row2\" class=\"row_heading level0 row2\" >3</th>\n",
       "      <td id=\"T_01132_row2_col0\" class=\"data row2 col0\" >81.798764</td>\n",
       "      <td id=\"T_01132_row2_col1\" class=\"data row2 col1\" >0.930118</td>\n",
       "      <td id=\"T_01132_row2_col2\" class=\"data row2 col2\" >271.696901</td>\n",
       "      <td id=\"T_01132_row2_col3\" class=\"data row2 col3\" >282.117582</td>\n",
       "      <td id=\"T_01132_row2_col4\" class=\"data row2 col4\" >['X1', 'X2', 'X3']</td>\n",
       "    </tr>\n",
       "    <tr>\n",
       "      <th id=\"T_01132_level0_row3\" class=\"row_heading level0 row3\" >4</th>\n",
       "      <td id=\"T_01132_row3_col0\" class=\"data row3 col0\" >80.515302</td>\n",
       "      <td id=\"T_01132_row3_col1\" class=\"data row3 col1\" >0.930490</td>\n",
       "      <td id=\"T_01132_row3_col2\" class=\"data row3 col2\" >272.115414</td>\n",
       "      <td id=\"T_01132_row3_col3\" class=\"data row3 col3\" >285.141264</td>\n",
       "      <td id=\"T_01132_row3_col4\" class=\"data row3 col4\" >['X1', 'X2', 'X3', 'X10']</td>\n",
       "    </tr>\n",
       "    <tr>\n",
       "      <th id=\"T_01132_level0_row4\" class=\"row_heading level0 row4\" >5</th>\n",
       "      <td id=\"T_01132_row4_col0\" class=\"data row4 col0\" >80.131433</td>\n",
       "      <td id=\"T_01132_row4_col1\" class=\"data row4 col1\" >0.930085</td>\n",
       "      <td id=\"T_01132_row4_col2\" class=\"data row4 col2\" >273.637507</td>\n",
       "      <td id=\"T_01132_row4_col3\" class=\"data row4 col3\" >289.268529</td>\n",
       "      <td id=\"T_01132_row4_col4\" class=\"data row4 col4\" >['X1', 'X2', 'X3', 'X4', 'X6']</td>\n",
       "    </tr>\n",
       "    <tr>\n",
       "      <th id=\"T_01132_level0_row5\" class=\"row_heading level0 row5\" >6</th>\n",
       "      <td id=\"T_01132_row5_col0\" class=\"data row5 col0\" >79.724303</td>\n",
       "      <td id=\"T_01132_row5_col1\" class=\"data row5 col1\" >0.929693</td>\n",
       "      <td id=\"T_01132_row5_col2\" class=\"data row5 col2\" >275.128135</td>\n",
       "      <td id=\"T_01132_row5_col3\" class=\"data row5 col3\" >293.364326</td>\n",
       "      <td id=\"T_01132_row5_col4\" class=\"data row5 col4\" >['X1', 'X2', 'X5', 'X6', 'X8', 'X9']</td>\n",
       "    </tr>\n",
       "    <tr>\n",
       "      <th id=\"T_01132_level0_row6\" class=\"row_heading level0 row6\" >7</th>\n",
       "      <td id=\"T_01132_row6_col0\" class=\"data row6 col0\" >79.707831</td>\n",
       "      <td id=\"T_01132_row6_col1\" class=\"data row6 col1\" >0.928943</td>\n",
       "      <td id=\"T_01132_row6_col2\" class=\"data row6 col2\" >277.107472</td>\n",
       "      <td id=\"T_01132_row6_col3\" class=\"data row6 col3\" >297.948833</td>\n",
       "      <td id=\"T_01132_row6_col4\" class=\"data row6 col4\" >['X1', 'X2', 'X3', 'X5', 'X6', 'X8', 'X9']</td>\n",
       "    </tr>\n",
       "    <tr>\n",
       "      <th id=\"T_01132_level0_row7\" class=\"row_heading level0 row7\" >8</th>\n",
       "      <td id=\"T_01132_row7_col0\" class=\"data row7 col0\" >79.672134</td>\n",
       "      <td id=\"T_01132_row7_col1\" class=\"data row7 col1\" >0.928195</td>\n",
       "      <td id=\"T_01132_row7_col2\" class=\"data row7 col2\" >279.062677</td>\n",
       "      <td id=\"T_01132_row7_col3\" class=\"data row7 col3\" >302.509209</td>\n",
       "      <td id=\"T_01132_row7_col4\" class=\"data row7 col4\" >['X1', 'X2', 'X3', 'X4', 'X6', 'X7', 'X8', 'X9']</td>\n",
       "    </tr>\n",
       "    <tr>\n",
       "      <th id=\"T_01132_level0_row8\" class=\"row_heading level0 row8\" >9</th>\n",
       "      <td id=\"T_01132_row8_col0\" class=\"data row8 col0\" >79.670435</td>\n",
       "      <td id=\"T_01132_row8_col1\" class=\"data row8 col1\" >0.927398</td>\n",
       "      <td id=\"T_01132_row8_col2\" class=\"data row8 col2\" >281.060545</td>\n",
       "      <td id=\"T_01132_row8_col3\" class=\"data row8 col3\" >307.112247</td>\n",
       "      <td id=\"T_01132_row8_col4\" class=\"data row8 col4\" >['X1', 'X2', 'X3', 'X4', 'X5', 'X6', 'X7', 'X8', 'X9']</td>\n",
       "    </tr>\n",
       "    <tr>\n",
       "      <th id=\"T_01132_level0_row9\" class=\"row_heading level0 row9\" >10</th>\n",
       "      <td id=\"T_01132_row9_col0\" class=\"data row9 col0\" >79.670404</td>\n",
       "      <td id=\"T_01132_row9_col1\" class=\"data row9 col1\" >0.926583</td>\n",
       "      <td id=\"T_01132_row9_col2\" class=\"data row9 col2\" >283.060505</td>\n",
       "      <td id=\"T_01132_row9_col3\" class=\"data row9 col3\" >311.717377</td>\n",
       "      <td id=\"T_01132_row9_col4\" class=\"data row9 col4\" >['X1', 'X2', 'X3', 'X4', 'X5', 'X6', 'X7', 'X8', 'X9', 'X10']</td>\n",
       "    </tr>\n",
       "  </tbody>\n",
       "</table>\n"
      ],
      "text/plain": [
       "<pandas.io.formats.style.Styler at 0x1d1bd13ee80>"
      ]
     },
     "execution_count": 7,
     "metadata": {},
     "output_type": "execute_result"
    }
   ],
   "source": [
    "X, y = df.iloc[:, :-1], df.iloc[:, -1]\n",
    "\n",
    "results_df, models = subsetSelection(X, y, 10, \"R2\", True)\n",
    "\n",
    "best_val = results_df[\"R2\"].max()\n",
    "results_df.style.apply(highlightRow, axis=1, target_col=\"R2\", \n",
    "                                       val=best_val)"
   ]
  },
  {
   "cell_type": "code",
   "execution_count": 10,
   "id": "b73b1816",
   "metadata": {},
   "outputs": [
    {
     "name": "stdout",
     "output_type": "stream",
     "text": [
      "Performing subset selection for k = 1\n",
      "Performing subset selection for k = 2\n",
      "Performing subset selection for k = 3\n",
      "Performing subset selection for k = 4\n",
      "Performing subset selection for k = 5\n",
      "Performing subset selection for k = 6\n",
      "Performing subset selection for k = 7\n",
      "Performing subset selection for k = 8\n",
      "Performing subset selection for k = 9\n",
      "Performing subset selection for k = 10\n"
     ]
    },
    {
     "data": {
      "text/html": [
       "<style type=\"text/css\">\n",
       "#T_55a00_row0_col0, #T_55a00_row0_col1, #T_55a00_row0_col2, #T_55a00_row0_col3, #T_55a00_row0_col4, #T_55a00_row1_col0, #T_55a00_row1_col1, #T_55a00_row1_col2, #T_55a00_row1_col3, #T_55a00_row1_col4, #T_55a00_row3_col0, #T_55a00_row3_col1, #T_55a00_row3_col2, #T_55a00_row3_col3, #T_55a00_row3_col4, #T_55a00_row4_col0, #T_55a00_row4_col1, #T_55a00_row4_col2, #T_55a00_row4_col3, #T_55a00_row4_col4, #T_55a00_row5_col0, #T_55a00_row5_col1, #T_55a00_row5_col2, #T_55a00_row5_col3, #T_55a00_row5_col4, #T_55a00_row6_col0, #T_55a00_row6_col1, #T_55a00_row6_col2, #T_55a00_row6_col3, #T_55a00_row6_col4, #T_55a00_row7_col0, #T_55a00_row7_col1, #T_55a00_row7_col2, #T_55a00_row7_col3, #T_55a00_row7_col4, #T_55a00_row8_col0, #T_55a00_row8_col1, #T_55a00_row8_col2, #T_55a00_row8_col3, #T_55a00_row8_col4, #T_55a00_row9_col0, #T_55a00_row9_col1, #T_55a00_row9_col2, #T_55a00_row9_col3, #T_55a00_row9_col4 {\n",
       "  background-color: white;\n",
       "}\n",
       "#T_55a00_row2_col0, #T_55a00_row2_col1, #T_55a00_row2_col2, #T_55a00_row2_col3, #T_55a00_row2_col4 {\n",
       "  background-color: lightgreen;\n",
       "}\n",
       "</style>\n",
       "<table id=\"T_55a00_\">\n",
       "  <thead>\n",
       "    <tr>\n",
       "      <th class=\"blank level0\" >&nbsp;</th>\n",
       "      <th class=\"col_heading level0 col0\" >RSS</th>\n",
       "      <th class=\"col_heading level0 col1\" >R2</th>\n",
       "      <th class=\"col_heading level0 col2\" >AIC</th>\n",
       "      <th class=\"col_heading level0 col3\" >BIC</th>\n",
       "      <th class=\"col_heading level0 col4\" >Features</th>\n",
       "    </tr>\n",
       "  </thead>\n",
       "  <tbody>\n",
       "    <tr>\n",
       "      <th id=\"T_55a00_level0_row0\" class=\"row_heading level0 row0\" >1</th>\n",
       "      <td id=\"T_55a00_row0_col0\" class=\"data row0 col0\" >187.123739</td>\n",
       "      <td id=\"T_55a00_row0_col1\" class=\"data row0 col1\" >0.843399</td>\n",
       "      <td id=\"T_55a00_row0_col2\" class=\"data row0 col2\" >350.447698</td>\n",
       "      <td id=\"T_55a00_row0_col3\" class=\"data row0 col3\" >355.658039</td>\n",
       "      <td id=\"T_55a00_row0_col4\" class=\"data row0 col4\" >['X4']</td>\n",
       "    </tr>\n",
       "    <tr>\n",
       "      <th id=\"T_55a00_level0_row1\" class=\"row_heading level0 row1\" >2</th>\n",
       "      <td id=\"T_55a00_row1_col0\" class=\"data row1 col0\" >83.489444</td>\n",
       "      <td id=\"T_55a00_row1_col1\" class=\"data row1 col1\" >0.929409</td>\n",
       "      <td id=\"T_55a00_row1_col2\" class=\"data row1 col2\" >271.742709</td>\n",
       "      <td id=\"T_55a00_row1_col3\" class=\"data row1 col3\" >279.558219</td>\n",
       "      <td id=\"T_55a00_row1_col4\" class=\"data row1 col4\" >['X2', 'X5']</td>\n",
       "    </tr>\n",
       "    <tr>\n",
       "      <th id=\"T_55a00_level0_row2\" class=\"row_heading level0 row2\" >3</th>\n",
       "      <td id=\"T_55a00_row2_col0\" class=\"data row2 col0\" >81.798764</td>\n",
       "      <td id=\"T_55a00_row2_col1\" class=\"data row2 col1\" >0.930118</td>\n",
       "      <td id=\"T_55a00_row2_col2\" class=\"data row2 col2\" >271.696901</td>\n",
       "      <td id=\"T_55a00_row2_col3\" class=\"data row2 col3\" >282.117582</td>\n",
       "      <td id=\"T_55a00_row2_col4\" class=\"data row2 col4\" >['X1', 'X2', 'X3']</td>\n",
       "    </tr>\n",
       "    <tr>\n",
       "      <th id=\"T_55a00_level0_row3\" class=\"row_heading level0 row3\" >4</th>\n",
       "      <td id=\"T_55a00_row3_col0\" class=\"data row3 col0\" >80.515302</td>\n",
       "      <td id=\"T_55a00_row3_col1\" class=\"data row3 col1\" >0.930490</td>\n",
       "      <td id=\"T_55a00_row3_col2\" class=\"data row3 col2\" >272.115414</td>\n",
       "      <td id=\"T_55a00_row3_col3\" class=\"data row3 col3\" >285.141264</td>\n",
       "      <td id=\"T_55a00_row3_col4\" class=\"data row3 col4\" >['X1', 'X2', 'X3', 'X10']</td>\n",
       "    </tr>\n",
       "    <tr>\n",
       "      <th id=\"T_55a00_level0_row4\" class=\"row_heading level0 row4\" >5</th>\n",
       "      <td id=\"T_55a00_row4_col0\" class=\"data row4 col0\" >80.131433</td>\n",
       "      <td id=\"T_55a00_row4_col1\" class=\"data row4 col1\" >0.930085</td>\n",
       "      <td id=\"T_55a00_row4_col2\" class=\"data row4 col2\" >273.637507</td>\n",
       "      <td id=\"T_55a00_row4_col3\" class=\"data row4 col3\" >289.268529</td>\n",
       "      <td id=\"T_55a00_row4_col4\" class=\"data row4 col4\" >['X1', 'X2', 'X3', 'X4', 'X6']</td>\n",
       "    </tr>\n",
       "    <tr>\n",
       "      <th id=\"T_55a00_level0_row5\" class=\"row_heading level0 row5\" >6</th>\n",
       "      <td id=\"T_55a00_row5_col0\" class=\"data row5 col0\" >79.724303</td>\n",
       "      <td id=\"T_55a00_row5_col1\" class=\"data row5 col1\" >0.929693</td>\n",
       "      <td id=\"T_55a00_row5_col2\" class=\"data row5 col2\" >275.128135</td>\n",
       "      <td id=\"T_55a00_row5_col3\" class=\"data row5 col3\" >293.364326</td>\n",
       "      <td id=\"T_55a00_row5_col4\" class=\"data row5 col4\" >['X1', 'X2', 'X5', 'X6', 'X8', 'X9']</td>\n",
       "    </tr>\n",
       "    <tr>\n",
       "      <th id=\"T_55a00_level0_row6\" class=\"row_heading level0 row6\" >7</th>\n",
       "      <td id=\"T_55a00_row6_col0\" class=\"data row6 col0\" >79.707831</td>\n",
       "      <td id=\"T_55a00_row6_col1\" class=\"data row6 col1\" >0.928943</td>\n",
       "      <td id=\"T_55a00_row6_col2\" class=\"data row6 col2\" >277.107472</td>\n",
       "      <td id=\"T_55a00_row6_col3\" class=\"data row6 col3\" >297.948833</td>\n",
       "      <td id=\"T_55a00_row6_col4\" class=\"data row6 col4\" >['X1', 'X2', 'X3', 'X5', 'X6', 'X8', 'X9']</td>\n",
       "    </tr>\n",
       "    <tr>\n",
       "      <th id=\"T_55a00_level0_row7\" class=\"row_heading level0 row7\" >8</th>\n",
       "      <td id=\"T_55a00_row7_col0\" class=\"data row7 col0\" >79.672134</td>\n",
       "      <td id=\"T_55a00_row7_col1\" class=\"data row7 col1\" >0.928195</td>\n",
       "      <td id=\"T_55a00_row7_col2\" class=\"data row7 col2\" >279.062677</td>\n",
       "      <td id=\"T_55a00_row7_col3\" class=\"data row7 col3\" >302.509209</td>\n",
       "      <td id=\"T_55a00_row7_col4\" class=\"data row7 col4\" >['X1', 'X2', 'X3', 'X4', 'X6', 'X7', 'X8', 'X9']</td>\n",
       "    </tr>\n",
       "    <tr>\n",
       "      <th id=\"T_55a00_level0_row8\" class=\"row_heading level0 row8\" >9</th>\n",
       "      <td id=\"T_55a00_row8_col0\" class=\"data row8 col0\" >79.670435</td>\n",
       "      <td id=\"T_55a00_row8_col1\" class=\"data row8 col1\" >0.927398</td>\n",
       "      <td id=\"T_55a00_row8_col2\" class=\"data row8 col2\" >281.060545</td>\n",
       "      <td id=\"T_55a00_row8_col3\" class=\"data row8 col3\" >307.112247</td>\n",
       "      <td id=\"T_55a00_row8_col4\" class=\"data row8 col4\" >['X1', 'X2', 'X3', 'X4', 'X5', 'X6', 'X7', 'X8', 'X9']</td>\n",
       "    </tr>\n",
       "    <tr>\n",
       "      <th id=\"T_55a00_level0_row9\" class=\"row_heading level0 row9\" >10</th>\n",
       "      <td id=\"T_55a00_row9_col0\" class=\"data row9 col0\" >79.670404</td>\n",
       "      <td id=\"T_55a00_row9_col1\" class=\"data row9 col1\" >0.926583</td>\n",
       "      <td id=\"T_55a00_row9_col2\" class=\"data row9 col2\" >283.060505</td>\n",
       "      <td id=\"T_55a00_row9_col3\" class=\"data row9 col3\" >311.717377</td>\n",
       "      <td id=\"T_55a00_row9_col4\" class=\"data row9 col4\" >['X1', 'X2', 'X3', 'X4', 'X5', 'X6', 'X7', 'X8', 'X9', 'X10']</td>\n",
       "    </tr>\n",
       "  </tbody>\n",
       "</table>\n"
      ],
      "text/plain": [
       "<pandas.io.formats.style.Styler at 0x1d1bd2b97f0>"
      ]
     },
     "execution_count": 10,
     "metadata": {},
     "output_type": "execute_result"
    }
   ],
   "source": [
    "results_df, models = subsetSelection(X, y, 10, \"AIC\")\n",
    "\n",
    "best_val = results_df[\"AIC\"].min()\n",
    "results_df.style.apply(highlightRow, axis=1, target_col=\"AIC\", \n",
    "                                       val=best_val)"
   ]
  },
  {
   "cell_type": "code",
   "execution_count": 11,
   "id": "2be9153d",
   "metadata": {},
   "outputs": [
    {
     "name": "stdout",
     "output_type": "stream",
     "text": [
      "Performing subset selection for k = 1\n",
      "Performing subset selection for k = 2\n",
      "Performing subset selection for k = 3\n",
      "Performing subset selection for k = 4\n",
      "Performing subset selection for k = 5\n",
      "Performing subset selection for k = 6\n",
      "Performing subset selection for k = 7\n",
      "Performing subset selection for k = 8\n",
      "Performing subset selection for k = 9\n",
      "Performing subset selection for k = 10\n"
     ]
    },
    {
     "data": {
      "text/html": [
       "<style type=\"text/css\">\n",
       "#T_dc6b9_row0_col0, #T_dc6b9_row0_col1, #T_dc6b9_row0_col2, #T_dc6b9_row0_col3, #T_dc6b9_row0_col4, #T_dc6b9_row2_col0, #T_dc6b9_row2_col1, #T_dc6b9_row2_col2, #T_dc6b9_row2_col3, #T_dc6b9_row2_col4, #T_dc6b9_row3_col0, #T_dc6b9_row3_col1, #T_dc6b9_row3_col2, #T_dc6b9_row3_col3, #T_dc6b9_row3_col4, #T_dc6b9_row4_col0, #T_dc6b9_row4_col1, #T_dc6b9_row4_col2, #T_dc6b9_row4_col3, #T_dc6b9_row4_col4, #T_dc6b9_row5_col0, #T_dc6b9_row5_col1, #T_dc6b9_row5_col2, #T_dc6b9_row5_col3, #T_dc6b9_row5_col4, #T_dc6b9_row6_col0, #T_dc6b9_row6_col1, #T_dc6b9_row6_col2, #T_dc6b9_row6_col3, #T_dc6b9_row6_col4, #T_dc6b9_row7_col0, #T_dc6b9_row7_col1, #T_dc6b9_row7_col2, #T_dc6b9_row7_col3, #T_dc6b9_row7_col4, #T_dc6b9_row8_col0, #T_dc6b9_row8_col1, #T_dc6b9_row8_col2, #T_dc6b9_row8_col3, #T_dc6b9_row8_col4, #T_dc6b9_row9_col0, #T_dc6b9_row9_col1, #T_dc6b9_row9_col2, #T_dc6b9_row9_col3, #T_dc6b9_row9_col4 {\n",
       "  background-color: white;\n",
       "}\n",
       "#T_dc6b9_row1_col0, #T_dc6b9_row1_col1, #T_dc6b9_row1_col2, #T_dc6b9_row1_col3, #T_dc6b9_row1_col4 {\n",
       "  background-color: lightgreen;\n",
       "}\n",
       "</style>\n",
       "<table id=\"T_dc6b9_\">\n",
       "  <thead>\n",
       "    <tr>\n",
       "      <th class=\"blank level0\" >&nbsp;</th>\n",
       "      <th class=\"col_heading level0 col0\" >RSS</th>\n",
       "      <th class=\"col_heading level0 col1\" >R2</th>\n",
       "      <th class=\"col_heading level0 col2\" >AIC</th>\n",
       "      <th class=\"col_heading level0 col3\" >BIC</th>\n",
       "      <th class=\"col_heading level0 col4\" >Features</th>\n",
       "    </tr>\n",
       "  </thead>\n",
       "  <tbody>\n",
       "    <tr>\n",
       "      <th id=\"T_dc6b9_level0_row0\" class=\"row_heading level0 row0\" >1</th>\n",
       "      <td id=\"T_dc6b9_row0_col0\" class=\"data row0 col0\" >187.123739</td>\n",
       "      <td id=\"T_dc6b9_row0_col1\" class=\"data row0 col1\" >0.843399</td>\n",
       "      <td id=\"T_dc6b9_row0_col2\" class=\"data row0 col2\" >350.447698</td>\n",
       "      <td id=\"T_dc6b9_row0_col3\" class=\"data row0 col3\" >355.658039</td>\n",
       "      <td id=\"T_dc6b9_row0_col4\" class=\"data row0 col4\" >['X4']</td>\n",
       "    </tr>\n",
       "    <tr>\n",
       "      <th id=\"T_dc6b9_level0_row1\" class=\"row_heading level0 row1\" >2</th>\n",
       "      <td id=\"T_dc6b9_row1_col0\" class=\"data row1 col0\" >83.489444</td>\n",
       "      <td id=\"T_dc6b9_row1_col1\" class=\"data row1 col1\" >0.929409</td>\n",
       "      <td id=\"T_dc6b9_row1_col2\" class=\"data row1 col2\" >271.742709</td>\n",
       "      <td id=\"T_dc6b9_row1_col3\" class=\"data row1 col3\" >279.558219</td>\n",
       "      <td id=\"T_dc6b9_row1_col4\" class=\"data row1 col4\" >['X2', 'X5']</td>\n",
       "    </tr>\n",
       "    <tr>\n",
       "      <th id=\"T_dc6b9_level0_row2\" class=\"row_heading level0 row2\" >3</th>\n",
       "      <td id=\"T_dc6b9_row2_col0\" class=\"data row2 col0\" >81.798764</td>\n",
       "      <td id=\"T_dc6b9_row2_col1\" class=\"data row2 col1\" >0.930118</td>\n",
       "      <td id=\"T_dc6b9_row2_col2\" class=\"data row2 col2\" >271.696901</td>\n",
       "      <td id=\"T_dc6b9_row2_col3\" class=\"data row2 col3\" >282.117582</td>\n",
       "      <td id=\"T_dc6b9_row2_col4\" class=\"data row2 col4\" >['X1', 'X2', 'X3']</td>\n",
       "    </tr>\n",
       "    <tr>\n",
       "      <th id=\"T_dc6b9_level0_row3\" class=\"row_heading level0 row3\" >4</th>\n",
       "      <td id=\"T_dc6b9_row3_col0\" class=\"data row3 col0\" >80.515302</td>\n",
       "      <td id=\"T_dc6b9_row3_col1\" class=\"data row3 col1\" >0.930490</td>\n",
       "      <td id=\"T_dc6b9_row3_col2\" class=\"data row3 col2\" >272.115414</td>\n",
       "      <td id=\"T_dc6b9_row3_col3\" class=\"data row3 col3\" >285.141264</td>\n",
       "      <td id=\"T_dc6b9_row3_col4\" class=\"data row3 col4\" >['X1', 'X2', 'X3', 'X10']</td>\n",
       "    </tr>\n",
       "    <tr>\n",
       "      <th id=\"T_dc6b9_level0_row4\" class=\"row_heading level0 row4\" >5</th>\n",
       "      <td id=\"T_dc6b9_row4_col0\" class=\"data row4 col0\" >80.131433</td>\n",
       "      <td id=\"T_dc6b9_row4_col1\" class=\"data row4 col1\" >0.930085</td>\n",
       "      <td id=\"T_dc6b9_row4_col2\" class=\"data row4 col2\" >273.637507</td>\n",
       "      <td id=\"T_dc6b9_row4_col3\" class=\"data row4 col3\" >289.268529</td>\n",
       "      <td id=\"T_dc6b9_row4_col4\" class=\"data row4 col4\" >['X1', 'X2', 'X3', 'X4', 'X6']</td>\n",
       "    </tr>\n",
       "    <tr>\n",
       "      <th id=\"T_dc6b9_level0_row5\" class=\"row_heading level0 row5\" >6</th>\n",
       "      <td id=\"T_dc6b9_row5_col0\" class=\"data row5 col0\" >79.724303</td>\n",
       "      <td id=\"T_dc6b9_row5_col1\" class=\"data row5 col1\" >0.929693</td>\n",
       "      <td id=\"T_dc6b9_row5_col2\" class=\"data row5 col2\" >275.128135</td>\n",
       "      <td id=\"T_dc6b9_row5_col3\" class=\"data row5 col3\" >293.364326</td>\n",
       "      <td id=\"T_dc6b9_row5_col4\" class=\"data row5 col4\" >['X1', 'X2', 'X5', 'X6', 'X8', 'X9']</td>\n",
       "    </tr>\n",
       "    <tr>\n",
       "      <th id=\"T_dc6b9_level0_row6\" class=\"row_heading level0 row6\" >7</th>\n",
       "      <td id=\"T_dc6b9_row6_col0\" class=\"data row6 col0\" >79.707831</td>\n",
       "      <td id=\"T_dc6b9_row6_col1\" class=\"data row6 col1\" >0.928943</td>\n",
       "      <td id=\"T_dc6b9_row6_col2\" class=\"data row6 col2\" >277.107472</td>\n",
       "      <td id=\"T_dc6b9_row6_col3\" class=\"data row6 col3\" >297.948833</td>\n",
       "      <td id=\"T_dc6b9_row6_col4\" class=\"data row6 col4\" >['X1', 'X2', 'X3', 'X5', 'X6', 'X8', 'X9']</td>\n",
       "    </tr>\n",
       "    <tr>\n",
       "      <th id=\"T_dc6b9_level0_row7\" class=\"row_heading level0 row7\" >8</th>\n",
       "      <td id=\"T_dc6b9_row7_col0\" class=\"data row7 col0\" >79.672134</td>\n",
       "      <td id=\"T_dc6b9_row7_col1\" class=\"data row7 col1\" >0.928195</td>\n",
       "      <td id=\"T_dc6b9_row7_col2\" class=\"data row7 col2\" >279.062677</td>\n",
       "      <td id=\"T_dc6b9_row7_col3\" class=\"data row7 col3\" >302.509209</td>\n",
       "      <td id=\"T_dc6b9_row7_col4\" class=\"data row7 col4\" >['X1', 'X2', 'X3', 'X4', 'X6', 'X7', 'X8', 'X9']</td>\n",
       "    </tr>\n",
       "    <tr>\n",
       "      <th id=\"T_dc6b9_level0_row8\" class=\"row_heading level0 row8\" >9</th>\n",
       "      <td id=\"T_dc6b9_row8_col0\" class=\"data row8 col0\" >79.670435</td>\n",
       "      <td id=\"T_dc6b9_row8_col1\" class=\"data row8 col1\" >0.927398</td>\n",
       "      <td id=\"T_dc6b9_row8_col2\" class=\"data row8 col2\" >281.060545</td>\n",
       "      <td id=\"T_dc6b9_row8_col3\" class=\"data row8 col3\" >307.112247</td>\n",
       "      <td id=\"T_dc6b9_row8_col4\" class=\"data row8 col4\" >['X1', 'X2', 'X3', 'X4', 'X5', 'X6', 'X7', 'X8', 'X9']</td>\n",
       "    </tr>\n",
       "    <tr>\n",
       "      <th id=\"T_dc6b9_level0_row9\" class=\"row_heading level0 row9\" >10</th>\n",
       "      <td id=\"T_dc6b9_row9_col0\" class=\"data row9 col0\" >79.670404</td>\n",
       "      <td id=\"T_dc6b9_row9_col1\" class=\"data row9 col1\" >0.926583</td>\n",
       "      <td id=\"T_dc6b9_row9_col2\" class=\"data row9 col2\" >283.060505</td>\n",
       "      <td id=\"T_dc6b9_row9_col3\" class=\"data row9 col3\" >311.717377</td>\n",
       "      <td id=\"T_dc6b9_row9_col4\" class=\"data row9 col4\" >['X1', 'X2', 'X3', 'X4', 'X5', 'X6', 'X7', 'X8', 'X9', 'X10']</td>\n",
       "    </tr>\n",
       "  </tbody>\n",
       "</table>\n"
      ],
      "text/plain": [
       "<pandas.io.formats.style.Styler at 0x1d1b66ea400>"
      ]
     },
     "execution_count": 11,
     "metadata": {},
     "output_type": "execute_result"
    }
   ],
   "source": [
    "results_df, models = subsetSelection(X, y, 10, \"BIC\")\n",
    "\n",
    "best_val = results_df[\"BIC\"].min()\n",
    "results_df.style.apply(highlightRow, axis=1, target_col=\"BIC\", \n",
    "                                       val=best_val)"
   ]
  },
  {
   "cell_type": "markdown",
   "id": "295d0da7",
   "metadata": {},
   "source": [
    "### (e) Now fit a lasso model to the simulated data, again using X, X2, ...,X10 as predictors. Use cross-validation to select the optimal value of λ"
   ]
  },
  {
   "cell_type": "code",
   "execution_count": 12,
   "id": "ef5e4faa",
   "metadata": {},
   "outputs": [],
   "source": [
    "alphas = np.power(10, np.linspace(-3, 2, num=100))"
   ]
  },
  {
   "cell_type": "code",
   "execution_count": 13,
   "id": "cfa69ba1",
   "metadata": {},
   "outputs": [
    {
     "data": {
      "image/png": "[encoded data removed]",
      "text/plain": [
       "<Figure size 432x288 with 1 Axes>"
      ]
     },
     "metadata": {
      "needs_background": "light"
     },
     "output_type": "display_data"
    }
   ],
   "source": [
    "lasso_pipeline = Pipeline([('scaler', StandardScaler()),\n",
    "                           ('lasso', LassoCV(alphas=alphas, cv=10, random_state=4,max_iter=7000))])\n",
    "lasso_pipeline = lasso_pipeline.fit(X, y)\n",
    "\n",
    "lasso_cv_mse = np.mean(lasso_pipeline['lasso'].mse_path_,axis=1)\n",
    "\n",
    "fig = plt.figure()\n",
    "plt.plot(lasso_pipeline['lasso'].alphas_, lasso_cv_mse, marker='.', markersize=10)\n",
    "fig.suptitle('Lasso Alpha vs. MSE')\n",
    "plt.xlabel('Alpha')\n",
    "plt.ylabel('MSE')\n",
    "plt.show()"
   ]
  },
  {
   "cell_type": "markdown",
   "id": "c85e5b79",
   "metadata": {},
   "source": [
    "### (f) Now generate a response vector Y according to the model Y = β0 + β7X7 + ϵ, and perform best subset selection and the lasso. Discuss the results obtained.\n",
    "\n",
    "With Best subset selection and using AIC as criterion, we can see that the best performing model correctly contains only X7."
   ]
  },
  {
   "cell_type": "code",
   "execution_count": 14,
   "id": "026ece2a",
   "metadata": {},
   "outputs": [],
   "source": [
    "df = generateRandomDf(feature_powers=feature_powers, target_powers=[7])\n",
    "X, y = df.iloc[:, :-1], df.iloc[:, -1]"
   ]
  },
  {
   "cell_type": "code",
   "execution_count": 15,
   "id": "e9aa2501",
   "metadata": {},
   "outputs": [
    {
     "data": {
      "text/plain": [
       "(100, 10)"
      ]
     },
     "execution_count": 15,
     "metadata": {},
     "output_type": "execute_result"
    }
   ],
   "source": [
    "X.shape"
   ]
  },
  {
   "cell_type": "code",
   "execution_count": 16,
   "id": "9ef82694",
   "metadata": {},
   "outputs": [
    {
     "name": "stdout",
     "output_type": "stream",
     "text": [
      "Performing subset selection for k = 1\n",
      "Performing subset selection for k = 2\n",
      "Performing subset selection for k = 3\n",
      "Performing subset selection for k = 4\n",
      "Performing subset selection for k = 5\n",
      "Performing subset selection for k = 6\n",
      "Performing subset selection for k = 7\n",
      "Performing subset selection for k = 8\n",
      "Performing subset selection for k = 9\n",
      "Performing subset selection for k = 10\n"
     ]
    },
    {
     "data": {
      "text/html": [
       "<style type=\"text/css\">\n",
       "#T_c75fb_row0_col0, #T_c75fb_row0_col1, #T_c75fb_row0_col2, #T_c75fb_row0_col3, #T_c75fb_row0_col4 {\n",
       "  background-color: lightgreen;\n",
       "}\n",
       "#T_c75fb_row1_col0, #T_c75fb_row1_col1, #T_c75fb_row1_col2, #T_c75fb_row1_col3, #T_c75fb_row1_col4, #T_c75fb_row2_col0, #T_c75fb_row2_col1, #T_c75fb_row2_col2, #T_c75fb_row2_col3, #T_c75fb_row2_col4, #T_c75fb_row3_col0, #T_c75fb_row3_col1, #T_c75fb_row3_col2, #T_c75fb_row3_col3, #T_c75fb_row3_col4, #T_c75fb_row4_col0, #T_c75fb_row4_col1, #T_c75fb_row4_col2, #T_c75fb_row4_col3, #T_c75fb_row4_col4, #T_c75fb_row5_col0, #T_c75fb_row5_col1, #T_c75fb_row5_col2, #T_c75fb_row5_col3, #T_c75fb_row5_col4, #T_c75fb_row6_col0, #T_c75fb_row6_col1, #T_c75fb_row6_col2, #T_c75fb_row6_col3, #T_c75fb_row6_col4, #T_c75fb_row7_col0, #T_c75fb_row7_col1, #T_c75fb_row7_col2, #T_c75fb_row7_col3, #T_c75fb_row7_col4, #T_c75fb_row8_col0, #T_c75fb_row8_col1, #T_c75fb_row8_col2, #T_c75fb_row8_col3, #T_c75fb_row8_col4, #T_c75fb_row9_col0, #T_c75fb_row9_col1, #T_c75fb_row9_col2, #T_c75fb_row9_col3, #T_c75fb_row9_col4 {\n",
       "  background-color: white;\n",
       "}\n",
       "</style>\n",
       "<table id=\"T_c75fb_\">\n",
       "  <thead>\n",
       "    <tr>\n",
       "      <th class=\"blank level0\" >&nbsp;</th>\n",
       "      <th class=\"col_heading level0 col0\" >RSS</th>\n",
       "      <th class=\"col_heading level0 col1\" >R2</th>\n",
       "      <th class=\"col_heading level0 col2\" >AIC</th>\n",
       "      <th class=\"col_heading level0 col3\" >BIC</th>\n",
       "      <th class=\"col_heading level0 col4\" >Features</th>\n",
       "    </tr>\n",
       "  </thead>\n",
       "  <tbody>\n",
       "    <tr>\n",
       "      <th id=\"T_c75fb_level0_row0\" class=\"row_heading level0 row0\" >1</th>\n",
       "      <td id=\"T_c75fb_row0_col0\" class=\"data row0 col0\" >85.042071</td>\n",
       "      <td id=\"T_c75fb_row0_col1\" class=\"data row0 col1\" >0.999558</td>\n",
       "      <td id=\"T_c75fb_row0_col2\" class=\"data row0 col2\" >271.585296</td>\n",
       "      <td id=\"T_c75fb_row0_col3\" class=\"data row0 col3\" >276.795637</td>\n",
       "      <td id=\"T_c75fb_row0_col4\" class=\"data row0 col4\" >['X7']</td>\n",
       "    </tr>\n",
       "    <tr>\n",
       "      <th id=\"T_c75fb_level0_row1\" class=\"row_heading level0 row1\" >2</th>\n",
       "      <td id=\"T_c75fb_row1_col0\" class=\"data row1 col0\" >84.806304</td>\n",
       "      <td id=\"T_c75fb_row1_col1\" class=\"data row1 col1\" >0.999554</td>\n",
       "      <td id=\"T_c75fb_row1_col2\" class=\"data row1 col2\" >273.307676</td>\n",
       "      <td id=\"T_c75fb_row1_col3\" class=\"data row1 col3\" >281.123187</td>\n",
       "      <td id=\"T_c75fb_row1_col4\" class=\"data row1 col4\" >['X4', 'X7']</td>\n",
       "    </tr>\n",
       "    <tr>\n",
       "      <th id=\"T_c75fb_level0_row2\" class=\"row_heading level0 row2\" >3</th>\n",
       "      <td id=\"T_c75fb_row2_col0\" class=\"data row2 col0\" >84.557861</td>\n",
       "      <td id=\"T_c75fb_row2_col1\" class=\"data row2 col1\" >0.999551</td>\n",
       "      <td id=\"T_c75fb_row2_col2\" class=\"data row2 col2\" >275.014293</td>\n",
       "      <td id=\"T_c75fb_row2_col3\" class=\"data row2 col3\" >285.434974</td>\n",
       "      <td id=\"T_c75fb_row2_col4\" class=\"data row2 col4\" >['X5', 'X7', 'X9']</td>\n",
       "    </tr>\n",
       "    <tr>\n",
       "      <th id=\"T_c75fb_level0_row3\" class=\"row_heading level0 row3\" >4</th>\n",
       "      <td id=\"T_c75fb_row3_col0\" class=\"data row3 col0\" >84.076428</td>\n",
       "      <td id=\"T_c75fb_row3_col1\" class=\"data row3 col1\" >0.999549</td>\n",
       "      <td id=\"T_c75fb_row3_col2\" class=\"data row3 col2\" >276.443312</td>\n",
       "      <td id=\"T_c75fb_row3_col3\" class=\"data row3 col3\" >289.469163</td>\n",
       "      <td id=\"T_c75fb_row3_col4\" class=\"data row3 col4\" >['X1', 'X3', 'X5', 'X7']</td>\n",
       "    </tr>\n",
       "    <tr>\n",
       "      <th id=\"T_c75fb_level0_row4\" class=\"row_heading level0 row4\" >5</th>\n",
       "      <td id=\"T_c75fb_row4_col0\" class=\"data row4 col0\" >82.900588</td>\n",
       "      <td id=\"T_c75fb_row4_col1\" class=\"data row4 col1\" >0.999550</td>\n",
       "      <td id=\"T_c75fb_row4_col2\" class=\"data row4 col2\" >277.034903</td>\n",
       "      <td id=\"T_c75fb_row4_col3\" class=\"data row4 col3\" >292.665924</td>\n",
       "      <td id=\"T_c75fb_row4_col4\" class=\"data row4 col4\" >['X4', 'X6', 'X7', 'X8', 'X10']</td>\n",
       "    </tr>\n",
       "    <tr>\n",
       "      <th id=\"T_c75fb_level0_row5\" class=\"row_heading level0 row5\" >6</th>\n",
       "      <td id=\"T_c75fb_row5_col0\" class=\"data row5 col0\" >82.077347</td>\n",
       "      <td id=\"T_c75fb_row5_col1\" class=\"data row5 col1\" >0.999550</td>\n",
       "      <td id=\"T_c75fb_row5_col2\" class=\"data row5 col2\" >278.036894</td>\n",
       "      <td id=\"T_c75fb_row5_col3\" class=\"data row5 col3\" >296.273086</td>\n",
       "      <td id=\"T_c75fb_row5_col4\" class=\"data row5 col4\" >['X2', 'X5', 'X6', 'X7', 'X8', 'X9']</td>\n",
       "    </tr>\n",
       "    <tr>\n",
       "      <th id=\"T_c75fb_level0_row6\" class=\"row_heading level0 row6\" >7</th>\n",
       "      <td id=\"T_c75fb_row6_col0\" class=\"data row6 col0\" >81.311475</td>\n",
       "      <td id=\"T_c75fb_row6_col1\" class=\"data row6 col1\" >0.999549</td>\n",
       "      <td id=\"T_c75fb_row6_col2\" class=\"data row6 col2\" >279.099403</td>\n",
       "      <td id=\"T_c75fb_row6_col3\" class=\"data row6 col3\" >299.940764</td>\n",
       "      <td id=\"T_c75fb_row6_col4\" class=\"data row6 col4\" >['X1', 'X2', 'X5', 'X6', 'X7', 'X9', 'X10']</td>\n",
       "    </tr>\n",
       "    <tr>\n",
       "      <th id=\"T_c75fb_level0_row7\" class=\"row_heading level0 row7\" >8</th>\n",
       "      <td id=\"T_c75fb_row7_col0\" class=\"data row7 col0\" >81.301768</td>\n",
       "      <td id=\"T_c75fb_row7_col1\" class=\"data row7 col1\" >0.999545</td>\n",
       "      <td id=\"T_c75fb_row7_col2\" class=\"data row7 col2\" >281.087464</td>\n",
       "      <td id=\"T_c75fb_row7_col3\" class=\"data row7 col3\" >304.533996</td>\n",
       "      <td id=\"T_c75fb_row7_col4\" class=\"data row7 col4\" >['X1', 'X2', 'X3', 'X5', 'X6', 'X7', 'X9', 'X10']</td>\n",
       "    </tr>\n",
       "    <tr>\n",
       "      <th id=\"T_c75fb_level0_row8\" class=\"row_heading level0 row8\" >9</th>\n",
       "      <td id=\"T_c75fb_row8_col0\" class=\"data row8 col0\" >81.298305</td>\n",
       "      <td id=\"T_c75fb_row8_col1\" class=\"data row8 col1\" >0.999540</td>\n",
       "      <td id=\"T_c75fb_row8_col2\" class=\"data row8 col2\" >283.083205</td>\n",
       "      <td id=\"T_c75fb_row8_col3\" class=\"data row8 col3\" >309.134907</td>\n",
       "      <td id=\"T_c75fb_row8_col4\" class=\"data row8 col4\" >['X1', 'X2', 'X3', 'X5', 'X6', 'X7', 'X8', 'X9', 'X10']</td>\n",
       "    </tr>\n",
       "    <tr>\n",
       "      <th id=\"T_c75fb_level0_row9\" class=\"row_heading level0 row9\" >10</th>\n",
       "      <td id=\"T_c75fb_row9_col0\" class=\"data row9 col0\" >81.298297</td>\n",
       "      <td id=\"T_c75fb_row9_col1\" class=\"data row9 col1\" >0.999534</td>\n",
       "      <td id=\"T_c75fb_row9_col2\" class=\"data row9 col2\" >285.083195</td>\n",
       "      <td id=\"T_c75fb_row9_col3\" class=\"data row9 col3\" >313.740067</td>\n",
       "      <td id=\"T_c75fb_row9_col4\" class=\"data row9 col4\" >['X1', 'X2', 'X3', 'X4', 'X5', 'X6', 'X7', 'X8', 'X9', 'X10']</td>\n",
       "    </tr>\n",
       "  </tbody>\n",
       "</table>\n"
      ],
      "text/plain": [
       "<pandas.io.formats.style.Styler at 0x1d1bd414490>"
      ]
     },
     "execution_count": 16,
     "metadata": {},
     "output_type": "execute_result"
    }
   ],
   "source": [
    "results, _ = subsetSelection(X, y, 10, \"AIC\")\n",
    "\n",
    "best_val = results[\"AIC\"].min()\n",
    "results.style.apply(highlightRow, axis=1, target_col=\"AIC\", val=best_val)"
   ]
  },
  {
   "cell_type": "code",
   "execution_count": 17,
   "id": "637d65cd",
   "metadata": {},
   "outputs": [
    {
     "data": {
      "image/png": "[encoded data removed]",
      "text/plain": [
       "<Figure size 432x288 with 1 Axes>"
      ]
     },
     "metadata": {
      "needs_background": "light"
     },
     "output_type": "display_data"
    }
   ],
   "source": [
    "lasso_pipeline = Pipeline([('scaler', StandardScaler()),\n",
    "                           ('lasso', LassoCV(alphas=alphas, cv=10, random_state=4,max_iter=7000))])\n",
    "lasso_pipeline = lasso_pipeline.fit(X, y)\n",
    "\n",
    "lasso_cv_mse = np.mean(lasso_pipeline['lasso'].mse_path_,axis=1)\n",
    "\n",
    "fig = plt.figure()\n",
    "plt.plot(lasso_pipeline['lasso'].alphas_, lasso_cv_mse, marker='.', markersize=10)\n",
    "fig.suptitle('Lasso Alpha vs. MSE')\n",
    "plt.xlabel('Alpha')\n",
    "plt.ylabel('MSE')\n",
    "plt.show()"
   ]
  },
  {
   "cell_type": "markdown",
   "id": "15db90bb",
   "metadata": {},
   "source": [
    "Using Lasso regression, 7 coefficients are zeroed out and the largest coefficient magnitude is X7 which was used to generate the data. "
   ]
  },
  {
   "cell_type": "code",
   "execution_count": 18,
   "id": "7676f0d6",
   "metadata": {},
   "outputs": [
    {
     "data": {
      "text/plain": [
       "array([-0.        , -0.        ,  0.        , -0.        ,  0.62375746,\n",
       "       -0.        , 42.73831382, -0.        ,  0.69185109,  0.        ])"
      ]
     },
     "execution_count": 18,
     "metadata": {},
     "output_type": "execute_result"
    }
   ],
   "source": [
    "lasso_pipeline['lasso'].coef_"
   ]
  },
  {
   "cell_type": "markdown",
   "id": "cc44fe2f",
   "metadata": {},
   "source": [
    "#  9. In this exercise, we will predict the number of applications received using the other variables in the College data set"
   ]
  },
  {
   "cell_type": "code",
   "execution_count": 19,
   "id": "99d50b16",
   "metadata": {},
   "outputs": [
    {
     "data": {
      "text/html": [
       "<div>\n",
       "<style scoped>\n",
       "    .dataframe tbody tr th:only-of-type {\n",
       "        vertical-align: middle;\n",
       "    }\n",
       "\n",
       "    .dataframe tbody tr th {\n",
       "        vertical-align: top;\n",
       "    }\n",
       "\n",
       "    .dataframe thead th {\n",
       "        text-align: right;\n",
       "    }\n",
       "</style>\n",
       "<table border=\"1\" class=\"dataframe\">\n",
       "  <thead>\n",
       "    <tr style=\"text-align: right;\">\n",
       "      <th></th>\n",
       "      <th>Private</th>\n",
       "      <th>Apps</th>\n",
       "      <th>Accept</th>\n",
       "      <th>Enroll</th>\n",
       "      <th>Top10perc</th>\n",
       "      <th>Top25perc</th>\n",
       "      <th>F.Undergrad</th>\n",
       "      <th>P.Undergrad</th>\n",
       "      <th>Outstate</th>\n",
       "      <th>Room.Board</th>\n",
       "      <th>Books</th>\n",
       "      <th>Personal</th>\n",
       "      <th>PhD</th>\n",
       "      <th>Terminal</th>\n",
       "      <th>S.F.Ratio</th>\n",
       "      <th>perc.alumni</th>\n",
       "      <th>Expend</th>\n",
       "      <th>Grad.Rate</th>\n",
       "    </tr>\n",
       "  </thead>\n",
       "  <tbody>\n",
       "    <tr>\n",
       "      <th>0</th>\n",
       "      <td>Yes</td>\n",
       "      <td>1660</td>\n",
       "      <td>1232</td>\n",
       "      <td>721</td>\n",
       "      <td>23</td>\n",
       "      <td>52</td>\n",
       "      <td>2885</td>\n",
       "      <td>537</td>\n",
       "      <td>7440</td>\n",
       "      <td>3300</td>\n",
       "      <td>450</td>\n",
       "      <td>2200</td>\n",
       "      <td>70</td>\n",
       "      <td>78</td>\n",
       "      <td>18.1</td>\n",
       "      <td>12</td>\n",
       "      <td>7041</td>\n",
       "      <td>60</td>\n",
       "    </tr>\n",
       "    <tr>\n",
       "      <th>1</th>\n",
       "      <td>Yes</td>\n",
       "      <td>2186</td>\n",
       "      <td>1924</td>\n",
       "      <td>512</td>\n",
       "      <td>16</td>\n",
       "      <td>29</td>\n",
       "      <td>2683</td>\n",
       "      <td>1227</td>\n",
       "      <td>12280</td>\n",
       "      <td>6450</td>\n",
       "      <td>750</td>\n",
       "      <td>1500</td>\n",
       "      <td>29</td>\n",
       "      <td>30</td>\n",
       "      <td>12.2</td>\n",
       "      <td>16</td>\n",
       "      <td>10527</td>\n",
       "      <td>56</td>\n",
       "    </tr>\n",
       "    <tr>\n",
       "      <th>2</th>\n",
       "      <td>Yes</td>\n",
       "      <td>1428</td>\n",
       "      <td>1097</td>\n",
       "      <td>336</td>\n",
       "      <td>22</td>\n",
       "      <td>50</td>\n",
       "      <td>1036</td>\n",
       "      <td>99</td>\n",
       "      <td>11250</td>\n",
       "      <td>3750</td>\n",
       "      <td>400</td>\n",
       "      <td>1165</td>\n",
       "      <td>53</td>\n",
       "      <td>66</td>\n",
       "      <td>12.9</td>\n",
       "      <td>30</td>\n",
       "      <td>8735</td>\n",
       "      <td>54</td>\n",
       "    </tr>\n",
       "    <tr>\n",
       "      <th>3</th>\n",
       "      <td>Yes</td>\n",
       "      <td>417</td>\n",
       "      <td>349</td>\n",
       "      <td>137</td>\n",
       "      <td>60</td>\n",
       "      <td>89</td>\n",
       "      <td>510</td>\n",
       "      <td>63</td>\n",
       "      <td>12960</td>\n",
       "      <td>5450</td>\n",
       "      <td>450</td>\n",
       "      <td>875</td>\n",
       "      <td>92</td>\n",
       "      <td>97</td>\n",
       "      <td>7.7</td>\n",
       "      <td>37</td>\n",
       "      <td>19016</td>\n",
       "      <td>59</td>\n",
       "    </tr>\n",
       "    <tr>\n",
       "      <th>4</th>\n",
       "      <td>Yes</td>\n",
       "      <td>193</td>\n",
       "      <td>146</td>\n",
       "      <td>55</td>\n",
       "      <td>16</td>\n",
       "      <td>44</td>\n",
       "      <td>249</td>\n",
       "      <td>869</td>\n",
       "      <td>7560</td>\n",
       "      <td>4120</td>\n",
       "      <td>800</td>\n",
       "      <td>1500</td>\n",
       "      <td>76</td>\n",
       "      <td>72</td>\n",
       "      <td>11.9</td>\n",
       "      <td>2</td>\n",
       "      <td>10922</td>\n",
       "      <td>15</td>\n",
       "    </tr>\n",
       "  </tbody>\n",
       "</table>\n",
       "</div>"
      ],
      "text/plain": [
       "  Private  Apps  Accept  Enroll  Top10perc  Top25perc  F.Undergrad  \\\n",
       "0     Yes  1660    1232     721         23         52         2885   \n",
       "1     Yes  2186    1924     512         16         29         2683   \n",
       "2     Yes  1428    1097     336         22         50         1036   \n",
       "3     Yes   417     349     137         60         89          510   \n",
       "4     Yes   193     146      55         16         44          249   \n",
       "\n",
       "   P.Undergrad  Outstate  Room.Board  Books  Personal  PhD  Terminal  \\\n",
       "0          537      7440        3300    450      2200   70        78   \n",
       "1         1227     12280        6450    750      1500   29        30   \n",
       "2           99     11250        3750    400      1165   53        66   \n",
       "3           63     12960        5450    450       875   92        97   \n",
       "4          869      7560        4120    800      1500   76        72   \n",
       "\n",
       "   S.F.Ratio  perc.alumni  Expend  Grad.Rate  \n",
       "0       18.1           12    7041         60  \n",
       "1       12.2           16   10527         56  \n",
       "2       12.9           30    8735         54  \n",
       "3        7.7           37   19016         59  \n",
       "4       11.9            2   10922         15  "
      ]
     },
     "execution_count": 19,
     "metadata": {},
     "output_type": "execute_result"
    }
   ],
   "source": [
    "college_df = pd.read_csv(r'datasets\\college.csv')\n",
    "college_df.head()"
   ]
  },
  {
   "cell_type": "code",
   "execution_count": 20,
   "id": "9bf0294f",
   "metadata": {},
   "outputs": [],
   "source": [
    "errors = {}"
   ]
  },
  {
   "cell_type": "markdown",
   "id": "f8f8a054",
   "metadata": {},
   "source": [
    "### (a) Split the data set into a training set and a test set"
   ]
  },
  {
   "cell_type": "code",
   "execution_count": 21,
   "id": "cd57bd2c",
   "metadata": {},
   "outputs": [],
   "source": [
    "from sklearn.model_selection import train_test_split\n",
    "\n",
    "college_df['Private'] = college_df['Private'].map({'Yes':1,'No':0})\n",
    "X, y = college_df.drop(columns=[\"Apps\"]), college_df[\"Apps\"]\n",
    "\n",
    "X_train, X_test, y_train, y_test = train_test_split(X, y, random_state=0)"
   ]
  },
  {
   "cell_type": "markdown",
   "id": "656df9be",
   "metadata": {},
   "source": [
    "### (b) Fit a linear model using least squares on the training set, and report the test error obtained."
   ]
  },
  {
   "cell_type": "code",
   "execution_count": 22,
   "id": "632e2c4a",
   "metadata": {},
   "outputs": [
    {
     "name": "stdout",
     "output_type": "stream",
     "text": [
      "OLS MSE = 1022430.0889253949\n"
     ]
    }
   ],
   "source": [
    "result = fitModel(X_train, y_train)\n",
    "\n",
    "OLS_mse = evaluateOLS(X_test, y_test, result)\n",
    "print(f\"OLS MSE = {OLS_mse}\")"
   ]
  },
  {
   "cell_type": "code",
   "execution_count": 23,
   "id": "7b8446af",
   "metadata": {},
   "outputs": [],
   "source": [
    "errors[\"OLS\"] = OLS_mse"
   ]
  },
  {
   "cell_type": "markdown",
   "id": "3acdfad4",
   "metadata": {},
   "source": [
    "### (c) Fit a ridge regression model on the training set, with λ chosen by cross-validation. Report the test error obtained"
   ]
  },
  {
   "cell_type": "code",
   "execution_count": 24,
   "id": "a53b8920",
   "metadata": {},
   "outputs": [],
   "source": [
    "ridge_pipeline = Pipeline([('scaler', StandardScaler()),\n",
    "                           ('ridge', RidgeCV(alphas=alphas, store_cv_values=True))])\n",
    "\n",
    "ridge_pipeline = ridge_pipeline.fit(X_train, y_train)"
   ]
  },
  {
   "cell_type": "code",
   "execution_count": 25,
   "id": "b3b707dd",
   "metadata": {},
   "outputs": [
    {
     "data": {
      "image/png": "[encoded data removed]",
      "text/plain": [
       "<Figure size 432x288 with 1 Axes>"
      ]
     },
     "metadata": {
      "needs_background": "light"
     },
     "output_type": "display_data"
    }
   ],
   "source": [
    "ridge_cv_error = np.mean(ridge_pipeline['ridge'].cv_values_,axis=0)\n",
    "\n",
    "fig = plt.figure()\n",
    "plt.plot(alphas, ridge_cv_error, marker='.', markersize=10)\n",
    "fig.suptitle('Ridge Alpha vs. MSE')\n",
    "plt.xlabel('Alpha')\n",
    "plt.ylabel('MSE')\n",
    "plt.show()"
   ]
  },
  {
   "cell_type": "code",
   "execution_count": 26,
   "id": "dfae9fee",
   "metadata": {},
   "outputs": [
    {
     "data": {
      "text/plain": [
       "0.001"
      ]
     },
     "execution_count": 26,
     "metadata": {},
     "output_type": "execute_result"
    }
   ],
   "source": [
    "ridge_pipeline['ridge'].alpha_"
   ]
  },
  {
   "cell_type": "code",
   "execution_count": 27,
   "id": "baacb0ed",
   "metadata": {},
   "outputs": [
    {
     "name": "stdout",
     "output_type": "stream",
     "text": [
      "Ridge MSE = 1022420.8708879905\n"
     ]
    }
   ],
   "source": [
    "ridge_preds = ridge_pipeline.predict(X_test)\n",
    "ridge_mse = mean_squared_error(y_test, ridge_preds)\n",
    "print(f\"Ridge MSE = {ridge_mse}\")"
   ]
  },
  {
   "cell_type": "code",
   "execution_count": 28,
   "id": "1d39f7d2",
   "metadata": {},
   "outputs": [],
   "source": [
    "errors[\"Ridge\"] = ridge_mse"
   ]
  },
  {
   "cell_type": "markdown",
   "id": "3ad26d6a",
   "metadata": {},
   "source": [
    "### (d) Fit a lasso model on the training set, with λ chosen by crossvalidation. Report the test error obtained, along with the number of non-zero coefficient estimates"
   ]
  },
  {
   "cell_type": "code",
   "execution_count": 29,
   "id": "fd99af9a",
   "metadata": {},
   "outputs": [
    {
     "data": {
      "text/plain": [
       "Text(0, 0.5, 'MSE')"
      ]
     },
     "execution_count": 29,
     "metadata": {},
     "output_type": "execute_result"
    },
    {
     "data": {
      "image/png": "[encoded data removed]",
      "text/plain": [
       "<Figure size 432x288 with 1 Axes>"
      ]
     },
     "metadata": {
      "needs_background": "light"
     },
     "output_type": "display_data"
    }
   ],
   "source": [
    "lasso_pipeline = Pipeline([('scaler', StandardScaler()),\n",
    "                           ('lasso', LassoCV(alphas=alphas, cv=10, random_state=4,max_iter=7000))])\n",
    "lasso_pipeline = lasso_pipeline.fit(X_train, y_train)\n",
    "\n",
    "lasso_cv_mse = np.mean(lasso_pipeline['lasso'].mse_path_,axis=1)\n",
    "\n",
    "fig = plt.figure()\n",
    "plt.plot(lasso_pipeline['lasso'].alphas_, lasso_cv_mse, marker='.', markersize=10)\n",
    "fig.suptitle('Lasso Alpha vs. MSE')\n",
    "plt.xlabel('Alpha')\n",
    "plt.ylabel('MSE')"
   ]
  },
  {
   "cell_type": "code",
   "execution_count": 30,
   "id": "88182c66",
   "metadata": {},
   "outputs": [
    {
     "name": "stdout",
     "output_type": "stream",
     "text": [
      "Lasso MSE = 1007348.995897335\n"
     ]
    }
   ],
   "source": [
    "lasso_preds = lasso_pipeline.predict(X_test)\n",
    "lasso_mse = mean_squared_error(y_test, lasso_preds)\n",
    "print(f\"Lasso MSE = {lasso_mse}\")"
   ]
  },
  {
   "cell_type": "code",
   "execution_count": 31,
   "id": "aeee9f53",
   "metadata": {},
   "outputs": [],
   "source": [
    "errors[\"Lasso\"] = lasso_mse"
   ]
  },
  {
   "cell_type": "code",
   "execution_count": 32,
   "id": "b1191d67",
   "metadata": {},
   "outputs": [
    {
     "name": "stdout",
     "output_type": "stream",
     "text": [
      "5 Coeffs are zeroed out\n"
     ]
    }
   ],
   "source": [
    "count_zeros = lasso_pipeline['lasso'].coef_.shape[0] - np.count_nonzero(lasso_pipeline['lasso'].coef_)\n",
    "print(f\"{count_zeros} Coeffs are zeroed out\")"
   ]
  },
  {
   "cell_type": "markdown",
   "id": "3a46f064",
   "metadata": {},
   "source": [
    "### (e) Fit a PCR model on the training set, with M chosen by crossvalidation. Report the test error obtained, along with the value of M selected by cross-validation."
   ]
  },
  {
   "cell_type": "code",
   "execution_count": 33,
   "id": "44cfc1d4",
   "metadata": {},
   "outputs": [],
   "source": [
    "def tune_PCA(X, y, cv=10, visualize=True):\n",
    "    results = {}\n",
    "    pca_pipeline = Pipeline([('scaler', StandardScaler()),\n",
    "                           ('pca', PCA())])\n",
    "    X_PCA = pca_pipeline.fit_transform(X)\n",
    "    kf = KFold(n_splits=cv)\n",
    "    \n",
    "    for m in range(1, X_PCA.shape[1]+1):\n",
    "        mse = 0\n",
    "        \n",
    "        for train_index, test_index in kf.split(X_PCA):\n",
    "            X_train, X_test = X_PCA[train_index, :m], X_PCA[test_index, :m]\n",
    "            y_train, y_test = y[train_index], y[test_index]\n",
    "            ols = fitModel(X_train, y_train)\n",
    "            X_test = sm.add_constant(X_test)\n",
    "            test_preds = ols.predict(X_test)\n",
    "            OLS_mse = mean_squared_error(y_test, test_preds)\n",
    "            mse += OLS_mse\n",
    "        \n",
    "        mse = mse / cv\n",
    "        results[m] = mse\n",
    "    \n",
    "    results_df = pd.DataFrame.from_dict(results, orient='index', columns=[\"MSE\"])\n",
    "    \n",
    "    if visualize:\n",
    "        ax = results_df.plot(y='MSE', use_index=True, marker='.', markersize=10) \n",
    "        ax.set_xlabel(\"Number of Components\")\n",
    "        ax.set_ylabel(\"MSE\")\n",
    "        \n",
    "    return results_df"
   ]
  },
  {
   "cell_type": "code",
   "execution_count": 34,
   "id": "bb5f80b6",
   "metadata": {},
   "outputs": [
    {
     "name": "stdout",
     "output_type": "stream",
     "text": [
      "PCA MSE = 1451962.4913853537\n"
     ]
    },
    {
     "data": {
      "image/png": "[encoded data removed]",
      "text/plain": [
       "<Figure size 432x288 with 1 Axes>"
      ]
     },
     "metadata": {
      "needs_background": "light"
     },
     "output_type": "display_data"
    }
   ],
   "source": [
    "PCR_mse_df = tune_PCA(X_train.to_numpy(), y_train.values, visualize=True)\n",
    "PCR_mse = PCR_mse_df.MSE.min()\n",
    "print(f\"PCA MSE = {PCR_mse}\")"
   ]
  },
  {
   "cell_type": "code",
   "execution_count": 35,
   "id": "42980323",
   "metadata": {},
   "outputs": [],
   "source": [
    "errors[\"PCR\"] = PCR_mse"
   ]
  },
  {
   "cell_type": "markdown",
   "id": "40417ffb",
   "metadata": {},
   "source": [
    "### (g) Comment on the results obtained. How accurately can we predict the number of college applications received? Is there much difference among the test errors resulting from these five approaches?\n",
    "OLS and Ridge perform very similarly, whereas Lasso outperforms both because of the fact that there are only a few significant predictors and the rest are noise. PCR Performs the worst."
   ]
  },
  {
   "cell_type": "code",
   "execution_count": 36,
   "id": "6ddaa222",
   "metadata": {},
   "outputs": [
    {
     "name": "stdout",
     "output_type": "stream",
     "text": [
      "{'OLS': 1022430.0889253949, 'Ridge': 1022420.8708879905, 'Lasso': 1007348.995897335, 'PCR': 1451962.4913853537}\n"
     ]
    }
   ],
   "source": [
    "print(errors)"
   ]
  },
  {
   "cell_type": "markdown",
   "id": "74d14998",
   "metadata": {},
   "source": [
    "## 10 We have seen that as the number of features used in a model increases, the training error will necessarily decrease, but the test error may not. We will now explore this in a simulated data set."
   ]
  },
  {
   "cell_type": "markdown",
   "id": "2e3c9d5e",
   "metadata": {},
   "source": [
    "###  (a) Generate a data set with p = 20 features, n = 1,000 observations, and an associated quantitative response vector generated according to the model Y = Xβ + ϵ, where β has some elements that are exactly equal to zero."
   ]
  },
  {
   "cell_type": "code",
   "execution_count": 37,
   "id": "889ae7e9",
   "metadata": {},
   "outputs": [],
   "source": [
    "X = np.random.normal(size = (1000,20))\n",
    "e = np.random.normal(size=1000)\n",
    "\n",
    "# generate beta array of random integers, along with a flag\n",
    "# that equals 0 20% of the time to randomly remove some coeffs\n",
    "beta = np.random.randint(0, high=10,size=20)\n",
    "flag = np.random.rand(20) > 0.2\n",
    "beta = beta*flag\n",
    "\n",
    "y = np.matmul(X, beta) + e"
   ]
  },
  {
   "cell_type": "code",
   "execution_count": 38,
   "id": "a4eb1c21",
   "metadata": {},
   "outputs": [
    {
     "data": {
      "text/plain": [
       "array([7, 0, 5, 9, 4, 0, 7, 6, 7, 0, 0, 1, 0, 5, 3, 4, 3, 5, 6, 0])"
      ]
     },
     "execution_count": 38,
     "metadata": {},
     "output_type": "execute_result"
    }
   ],
   "source": [
    "beta"
   ]
  },
  {
   "cell_type": "code",
   "execution_count": 39,
   "id": "84d6f2f9",
   "metadata": {},
   "outputs": [
    {
     "data": {
      "text/html": [
       "<div>\n",
       "<style scoped>\n",
       "    .dataframe tbody tr th:only-of-type {\n",
       "        vertical-align: middle;\n",
       "    }\n",
       "\n",
       "    .dataframe tbody tr th {\n",
       "        vertical-align: top;\n",
       "    }\n",
       "\n",
       "    .dataframe thead th {\n",
       "        text-align: right;\n",
       "    }\n",
       "</style>\n",
       "<table border=\"1\" class=\"dataframe\">\n",
       "  <thead>\n",
       "    <tr style=\"text-align: right;\">\n",
       "      <th></th>\n",
       "      <th>X0</th>\n",
       "      <th>X1</th>\n",
       "      <th>X2</th>\n",
       "      <th>X3</th>\n",
       "      <th>X4</th>\n",
       "      <th>X5</th>\n",
       "      <th>X6</th>\n",
       "      <th>X7</th>\n",
       "      <th>X8</th>\n",
       "      <th>X9</th>\n",
       "      <th>...</th>\n",
       "      <th>X11</th>\n",
       "      <th>X12</th>\n",
       "      <th>X13</th>\n",
       "      <th>X14</th>\n",
       "      <th>X15</th>\n",
       "      <th>X16</th>\n",
       "      <th>X17</th>\n",
       "      <th>X18</th>\n",
       "      <th>X19</th>\n",
       "      <th>y</th>\n",
       "    </tr>\n",
       "  </thead>\n",
       "  <tbody>\n",
       "    <tr>\n",
       "      <th>0</th>\n",
       "      <td>-1.126611</td>\n",
       "      <td>-0.319136</td>\n",
       "      <td>0.500531</td>\n",
       "      <td>1.578808</td>\n",
       "      <td>0.700911</td>\n",
       "      <td>0.968563</td>\n",
       "      <td>-0.742904</td>\n",
       "      <td>-0.420187</td>\n",
       "      <td>2.016318</td>\n",
       "      <td>-0.121779</td>\n",
       "      <td>...</td>\n",
       "      <td>1.157855</td>\n",
       "      <td>-0.385416</td>\n",
       "      <td>0.868077</td>\n",
       "      <td>-1.176760</td>\n",
       "      <td>0.599042</td>\n",
       "      <td>-1.344577</td>\n",
       "      <td>-0.093816</td>\n",
       "      <td>1.033445</td>\n",
       "      <td>0.209054</td>\n",
       "      <td>24.960729</td>\n",
       "    </tr>\n",
       "    <tr>\n",
       "      <th>1</th>\n",
       "      <td>-0.312699</td>\n",
       "      <td>-1.428976</td>\n",
       "      <td>-0.853966</td>\n",
       "      <td>1.018643</td>\n",
       "      <td>-1.479348</td>\n",
       "      <td>0.207009</td>\n",
       "      <td>-0.528124</td>\n",
       "      <td>-0.573449</td>\n",
       "      <td>-1.390150</td>\n",
       "      <td>0.319142</td>\n",
       "      <td>...</td>\n",
       "      <td>0.342109</td>\n",
       "      <td>-0.372296</td>\n",
       "      <td>-0.059831</td>\n",
       "      <td>0.479188</td>\n",
       "      <td>-0.211668</td>\n",
       "      <td>1.365923</td>\n",
       "      <td>0.084158</td>\n",
       "      <td>-0.452968</td>\n",
       "      <td>0.339294</td>\n",
       "      <td>-17.983652</td>\n",
       "    </tr>\n",
       "    <tr>\n",
       "      <th>2</th>\n",
       "      <td>1.043335</td>\n",
       "      <td>0.292842</td>\n",
       "      <td>1.400071</td>\n",
       "      <td>1.830960</td>\n",
       "      <td>-0.867040</td>\n",
       "      <td>1.055664</td>\n",
       "      <td>-0.102095</td>\n",
       "      <td>-0.715165</td>\n",
       "      <td>-0.526394</td>\n",
       "      <td>-0.272214</td>\n",
       "      <td>...</td>\n",
       "      <td>-0.908469</td>\n",
       "      <td>0.690682</td>\n",
       "      <td>-0.656983</td>\n",
       "      <td>-1.429279</td>\n",
       "      <td>0.275382</td>\n",
       "      <td>-1.086212</td>\n",
       "      <td>-1.521110</td>\n",
       "      <td>-1.144463</td>\n",
       "      <td>1.874946</td>\n",
       "      <td>-6.067759</td>\n",
       "    </tr>\n",
       "    <tr>\n",
       "      <th>3</th>\n",
       "      <td>1.155870</td>\n",
       "      <td>1.169318</td>\n",
       "      <td>0.540074</td>\n",
       "      <td>-0.359075</td>\n",
       "      <td>-0.435027</td>\n",
       "      <td>0.392685</td>\n",
       "      <td>0.174269</td>\n",
       "      <td>-0.148551</td>\n",
       "      <td>-1.057592</td>\n",
       "      <td>-1.098222</td>\n",
       "      <td>...</td>\n",
       "      <td>0.494621</td>\n",
       "      <td>-0.133938</td>\n",
       "      <td>1.319456</td>\n",
       "      <td>-0.322404</td>\n",
       "      <td>1.187387</td>\n",
       "      <td>0.115593</td>\n",
       "      <td>-2.072195</td>\n",
       "      <td>-1.392644</td>\n",
       "      <td>1.031523</td>\n",
       "      <td>-8.208918</td>\n",
       "    </tr>\n",
       "    <tr>\n",
       "      <th>4</th>\n",
       "      <td>-0.664142</td>\n",
       "      <td>-0.013147</td>\n",
       "      <td>2.008409</td>\n",
       "      <td>-0.379717</td>\n",
       "      <td>-0.448628</td>\n",
       "      <td>0.061700</td>\n",
       "      <td>-0.555520</td>\n",
       "      <td>0.514919</td>\n",
       "      <td>-1.132503</td>\n",
       "      <td>0.567903</td>\n",
       "      <td>...</td>\n",
       "      <td>0.910683</td>\n",
       "      <td>0.158310</td>\n",
       "      <td>-0.186094</td>\n",
       "      <td>-0.782427</td>\n",
       "      <td>1.039611</td>\n",
       "      <td>-0.812827</td>\n",
       "      <td>-0.517905</td>\n",
       "      <td>-0.307918</td>\n",
       "      <td>0.805941</td>\n",
       "      <td>-13.993904</td>\n",
       "    </tr>\n",
       "  </tbody>\n",
       "</table>\n",
       "<p>5 rows × 21 columns</p>\n",
       "</div>"
      ],
      "text/plain": [
       "         X0        X1        X2        X3        X4        X5        X6  \\\n",
       "0 -1.126611 -0.319136  0.500531  1.578808  0.700911  0.968563 -0.742904   \n",
       "1 -0.312699 -1.428976 -0.853966  1.018643 -1.479348  0.207009 -0.528124   \n",
       "2  1.043335  0.292842  1.400071  1.830960 -0.867040  1.055664 -0.102095   \n",
       "3  1.155870  1.169318  0.540074 -0.359075 -0.435027  0.392685  0.174269   \n",
       "4 -0.664142 -0.013147  2.008409 -0.379717 -0.448628  0.061700 -0.555520   \n",
       "\n",
       "         X7        X8        X9  ...       X11       X12       X13       X14  \\\n",
       "0 -0.420187  2.016318 -0.121779  ...  1.157855 -0.385416  0.868077 -1.176760   \n",
       "1 -0.573449 -1.390150  0.319142  ...  0.342109 -0.372296 -0.059831  0.479188   \n",
       "2 -0.715165 -0.526394 -0.272214  ... -0.908469  0.690682 -0.656983 -1.429279   \n",
       "3 -0.148551 -1.057592 -1.098222  ...  0.494621 -0.133938  1.319456 -0.322404   \n",
       "4  0.514919 -1.132503  0.567903  ...  0.910683  0.158310 -0.186094 -0.782427   \n",
       "\n",
       "        X15       X16       X17       X18       X19          y  \n",
       "0  0.599042 -1.344577 -0.093816  1.033445  0.209054  24.960729  \n",
       "1 -0.211668  1.365923  0.084158 -0.452968  0.339294 -17.983652  \n",
       "2  0.275382 -1.086212 -1.521110 -1.144463  1.874946  -6.067759  \n",
       "3  1.187387  0.115593 -2.072195 -1.392644  1.031523  -8.208918  \n",
       "4  1.039611 -0.812827 -0.517905 -0.307918  0.805941 -13.993904  \n",
       "\n",
       "[5 rows x 21 columns]"
      ]
     },
     "execution_count": 39,
     "metadata": {},
     "output_type": "execute_result"
    }
   ],
   "source": [
    "colnames = [f\"X{i}\" for i in range(20)] + ['y']\n",
    "df = pd.DataFrame(np.hstack([X,y.reshape(-1, 1)]), columns=colnames)\n",
    "\n",
    "df.head()"
   ]
  },
  {
   "cell_type": "markdown",
   "id": "2ae89452",
   "metadata": {},
   "source": [
    "### (b) Split your data set into a training set containing 100 observations and a test set containing 900 observations."
   ]
  },
  {
   "cell_type": "code",
   "execution_count": 40,
   "id": "3148704d",
   "metadata": {},
   "outputs": [
    {
     "name": "stdout",
     "output_type": "stream",
     "text": [
      "train size: (100, 20), test size: (900, 20)\n"
     ]
    }
   ],
   "source": [
    "X_train, X_test, y_train, y_test = train_test_split(df.iloc[:,:-1], df.iloc[:,-1], test_size=0.9)\n",
    "print(f\"train size: {X_train.shape}, test size: {X_test.shape}\")"
   ]
  },
  {
   "cell_type": "markdown",
   "id": "89107b2e",
   "metadata": {},
   "source": [
    "### (c) Perform best subset selection on the training set, and plot the training set MSE associated with the best model of each size.\n",
    "\n",
    "It takes a very long time so I am limiting subset size to 7."
   ]
  },
  {
   "cell_type": "code",
   "execution_count": 41,
   "id": "38859774",
   "metadata": {},
   "outputs": [
    {
     "name": "stdout",
     "output_type": "stream",
     "text": [
      "Performing subset selection for k = 1\n",
      "Performing subset selection for k = 2\n",
      "Performing subset selection for k = 3\n",
      "Performing subset selection for k = 4\n",
      "Performing subset selection for k = 5\n",
      "Performing subset selection for k = 6\n",
      "Performing subset selection for k = 7\n"
     ]
    }
   ],
   "source": [
    "results, models = subsetSelection(X_train, y_train, 7, \"AIC\")"
   ]
  },
  {
   "cell_type": "code",
   "execution_count": 42,
   "id": "f587cbd6",
   "metadata": {},
   "outputs": [
    {
     "data": {
      "text/html": [
       "<style type=\"text/css\">\n",
       "#T_b711b_row0_col0, #T_b711b_row0_col1, #T_b711b_row0_col2, #T_b711b_row0_col3, #T_b711b_row0_col4, #T_b711b_row1_col0, #T_b711b_row1_col1, #T_b711b_row1_col2, #T_b711b_row1_col3, #T_b711b_row1_col4, #T_b711b_row2_col0, #T_b711b_row2_col1, #T_b711b_row2_col2, #T_b711b_row2_col3, #T_b711b_row2_col4, #T_b711b_row3_col0, #T_b711b_row3_col1, #T_b711b_row3_col2, #T_b711b_row3_col3, #T_b711b_row3_col4, #T_b711b_row4_col0, #T_b711b_row4_col1, #T_b711b_row4_col2, #T_b711b_row4_col3, #T_b711b_row4_col4, #T_b711b_row5_col0, #T_b711b_row5_col1, #T_b711b_row5_col2, #T_b711b_row5_col3, #T_b711b_row5_col4 {\n",
       "  background-color: white;\n",
       "}\n",
       "#T_b711b_row6_col0, #T_b711b_row6_col1, #T_b711b_row6_col2, #T_b711b_row6_col3, #T_b711b_row6_col4 {\n",
       "  background-color: lightgreen;\n",
       "}\n",
       "</style>\n",
       "<table id=\"T_b711b_\">\n",
       "  <thead>\n",
       "    <tr>\n",
       "      <th class=\"blank level0\" >&nbsp;</th>\n",
       "      <th class=\"col_heading level0 col0\" >RSS</th>\n",
       "      <th class=\"col_heading level0 col1\" >R2</th>\n",
       "      <th class=\"col_heading level0 col2\" >AIC</th>\n",
       "      <th class=\"col_heading level0 col3\" >BIC</th>\n",
       "      <th class=\"col_heading level0 col4\" >Features</th>\n",
       "    </tr>\n",
       "  </thead>\n",
       "  <tbody>\n",
       "    <tr>\n",
       "      <th id=\"T_b711b_level0_row0\" class=\"row_heading level0 row0\" >1</th>\n",
       "      <td id=\"T_b711b_row0_col0\" class=\"data row0 col0\" >34946.310794</td>\n",
       "      <td id=\"T_b711b_row0_col1\" class=\"data row0 col1\" >0.185058</td>\n",
       "      <td id=\"T_b711b_row0_col2\" class=\"data row0 col2\" >873.427507</td>\n",
       "      <td id=\"T_b711b_row0_col3\" class=\"data row0 col3\" >878.637847</td>\n",
       "      <td id=\"T_b711b_row0_col4\" class=\"data row0 col4\" >['X3']</td>\n",
       "    </tr>\n",
       "    <tr>\n",
       "      <th id=\"T_b711b_level0_row1\" class=\"row_heading level0 row1\" >2</th>\n",
       "      <td id=\"T_b711b_row1_col0\" class=\"data row1 col0\" >26505.964589</td>\n",
       "      <td id=\"T_b711b_row1_col1\" class=\"data row1 col1\" >0.375513</td>\n",
       "      <td id=\"T_b711b_row1_col2\" class=\"data row1 col2\" >847.783195</td>\n",
       "      <td id=\"T_b711b_row1_col3\" class=\"data row1 col3\" >855.598705</td>\n",
       "      <td id=\"T_b711b_row1_col4\" class=\"data row1 col4\" >['X3', 'X6']</td>\n",
       "    </tr>\n",
       "    <tr>\n",
       "      <th id=\"T_b711b_level0_row2\" class=\"row_heading level0 row2\" >3</th>\n",
       "      <td id=\"T_b711b_row2_col0\" class=\"data row2 col0\" >21357.248119</td>\n",
       "      <td id=\"T_b711b_row2_col1\" class=\"data row2 col1\" >0.491577</td>\n",
       "      <td id=\"T_b711b_row2_col2\" class=\"data row2 col2\" >828.185333</td>\n",
       "      <td id=\"T_b711b_row2_col3\" class=\"data row2 col3\" >838.606014</td>\n",
       "      <td id=\"T_b711b_row2_col4\" class=\"data row2 col4\" >['X3', 'X6', 'X7']</td>\n",
       "    </tr>\n",
       "    <tr>\n",
       "      <th id=\"T_b711b_level0_row3\" class=\"row_heading level0 row3\" >4</th>\n",
       "      <td id=\"T_b711b_row3_col0\" class=\"data row3 col0\" >17486.845282</td>\n",
       "      <td id=\"T_b711b_row3_col1\" class=\"data row3 col1\" >0.579332</td>\n",
       "      <td id=\"T_b711b_row3_col2\" class=\"data row3 col2\" >810.191106</td>\n",
       "      <td id=\"T_b711b_row3_col3\" class=\"data row3 col3\" >823.216957</td>\n",
       "      <td id=\"T_b711b_row3_col4\" class=\"data row3 col4\" >['X3', 'X6', 'X7', 'X8']</td>\n",
       "    </tr>\n",
       "    <tr>\n",
       "      <th id=\"T_b711b_level0_row4\" class=\"row_heading level0 row4\" >5</th>\n",
       "      <td id=\"T_b711b_row4_col0\" class=\"data row4 col0\" >13583.019286</td>\n",
       "      <td id=\"T_b711b_row4_col1\" class=\"data row4 col1\" >0.669767</td>\n",
       "      <td id=\"T_b711b_row4_col2\" class=\"data row4 col2\" >786.928259</td>\n",
       "      <td id=\"T_b711b_row4_col3\" class=\"data row4 col3\" >802.559280</td>\n",
       "      <td id=\"T_b711b_row4_col4\" class=\"data row4 col4\" >['X3', 'X6', 'X7', 'X8', 'X17']</td>\n",
       "    </tr>\n",
       "    <tr>\n",
       "      <th id=\"T_b711b_level0_row5\" class=\"row_heading level0 row5\" >6</th>\n",
       "      <td id=\"T_b711b_row5_col0\" class=\"data row5 col0\" >10945.147565</td>\n",
       "      <td id=\"T_b711b_row5_col1\" class=\"data row5 col1\" >0.731039</td>\n",
       "      <td id=\"T_b711b_row5_col2\" class=\"data row5 col2\" >767.335837</td>\n",
       "      <td id=\"T_b711b_row5_col3\" class=\"data row5 col3\" >785.572029</td>\n",
       "      <td id=\"T_b711b_row5_col4\" class=\"data row5 col4\" >['X3', 'X6', 'X7', 'X8', 'X13', 'X17']</td>\n",
       "    </tr>\n",
       "    <tr>\n",
       "      <th id=\"T_b711b_level0_row6\" class=\"row_heading level0 row6\" >7</th>\n",
       "      <td id=\"T_b711b_row6_col0\" class=\"data row6 col0\" >7832.002140</td>\n",
       "      <td id=\"T_b711b_row6_col1\" class=\"data row6 col1\" >0.805448</td>\n",
       "      <td id=\"T_b711b_row6_col2\" class=\"data row6 col2\" >735.868034</td>\n",
       "      <td id=\"T_b711b_row6_col3\" class=\"data row6 col3\" >756.709395</td>\n",
       "      <td id=\"T_b711b_row6_col4\" class=\"data row6 col4\" >['X0', 'X3', 'X6', 'X7', 'X8', 'X17', 'X18']</td>\n",
       "    </tr>\n",
       "  </tbody>\n",
       "</table>\n"
      ],
      "text/plain": [
       "<pandas.io.formats.style.Styler at 0x1d1bd2a1f40>"
      ]
     },
     "execution_count": 42,
     "metadata": {},
     "output_type": "execute_result"
    }
   ],
   "source": [
    "best_val = results[\"AIC\"].min()\n",
    "results.style.apply(highlightRow, axis=1, target_col=\"AIC\", val=best_val)"
   ]
  },
  {
   "cell_type": "markdown",
   "id": "80c73948",
   "metadata": {},
   "source": [
    "### (d) Plot the test set MSE associated with the best model of each size."
   ]
  },
  {
   "cell_type": "code",
   "execution_count": 43,
   "id": "d6ba65c0",
   "metadata": {},
   "outputs": [],
   "source": [
    "model_errors = []\n",
    "\n",
    "for i, m in enumerate(models[1:]):\n",
    "    features = results.iloc[i, -1]\n",
    "    mse = evaluateOLS(X_test[features], y_test, m)\n",
    "    model_errors.append(mse)"
   ]
  },
  {
   "cell_type": "code",
   "execution_count": 44,
   "id": "0ad4ec1b",
   "metadata": {},
   "outputs": [
    {
     "data": {
      "image/png": "[encoded data removed]",
      "text/plain": [
       "<Figure size 432x288 with 1 Axes>"
      ]
     },
     "metadata": {
      "needs_background": "light"
     },
     "output_type": "display_data"
    }
   ],
   "source": [
    "idxs = np.arange(len(model_errors)) + 1\n",
    "plt.plot(idxs, model_errors, marker='.', markersize=10)\n",
    "plt.xlabel(\"Number of Features\")\n",
    "plt.ylabel('MSE')\n",
    "plt.show()"
   ]
  },
  {
   "cell_type": "markdown",
   "id": "7e8ccb98",
   "metadata": {},
   "source": [
    "### (e) For which model size does the test set MSE take on its minimum value? Comment on your results.\n",
    "\n",
    "The minimum test error is achieved with model size of 7, it is possible that including more variables would have decreased the error further but it is very computationally expensive to di this via subset selection. "
   ]
  },
  {
   "cell_type": "markdown",
   "id": "9fee4b21",
   "metadata": {},
   "source": [
    "### (f) How does the model at which the test set MSE is minimized compare to the true model used to generate the data? Comment on the coefficient values.\n",
    "\n",
    "Coefficient values are generally close to the true ones, and the differences are probably due to the addition of the noise."
   ]
  },
  {
   "cell_type": "code",
   "execution_count": 45,
   "id": "d6c4110a",
   "metadata": {},
   "outputs": [],
   "source": [
    "# Best model was the last one, and we exclude the constant\n",
    "model_params = models[-1].params.values[1:]"
   ]
  },
  {
   "cell_type": "code",
   "execution_count": 46,
   "id": "8c394afc",
   "metadata": {},
   "outputs": [
    {
     "data": {
      "text/plain": [
       "[0, 3, 6, 7, 8, 17, 18]"
      ]
     },
     "execution_count": 46,
     "metadata": {},
     "output_type": "execute_result"
    }
   ],
   "source": [
    "features = results.iloc[-1, -1]\n",
    "feature_idxs = [int(x[1:]) for x in features]\n",
    "feature_idxs"
   ]
  },
  {
   "cell_type": "code",
   "execution_count": 47,
   "id": "9a174270",
   "metadata": {},
   "outputs": [
    {
     "data": {
      "text/html": [
       "<div>\n",
       "<style scoped>\n",
       "    .dataframe tbody tr th:only-of-type {\n",
       "        vertical-align: middle;\n",
       "    }\n",
       "\n",
       "    .dataframe tbody tr th {\n",
       "        vertical-align: top;\n",
       "    }\n",
       "\n",
       "    .dataframe thead th {\n",
       "        text-align: right;\n",
       "    }\n",
       "</style>\n",
       "<table border=\"1\" class=\"dataframe\">\n",
       "  <thead>\n",
       "    <tr style=\"text-align: right;\">\n",
       "      <th></th>\n",
       "      <th>True Param</th>\n",
       "      <th>Estimated Param</th>\n",
       "    </tr>\n",
       "  </thead>\n",
       "  <tbody>\n",
       "    <tr>\n",
       "      <th>0</th>\n",
       "      <td>7</td>\n",
       "      <td>5.739974</td>\n",
       "    </tr>\n",
       "    <tr>\n",
       "      <th>1</th>\n",
       "      <td>9</td>\n",
       "      <td>9.633738</td>\n",
       "    </tr>\n",
       "    <tr>\n",
       "      <th>2</th>\n",
       "      <td>7</td>\n",
       "      <td>7.988455</td>\n",
       "    </tr>\n",
       "    <tr>\n",
       "      <th>3</th>\n",
       "      <td>6</td>\n",
       "      <td>6.377402</td>\n",
       "    </tr>\n",
       "    <tr>\n",
       "      <th>4</th>\n",
       "      <td>7</td>\n",
       "      <td>5.656691</td>\n",
       "    </tr>\n",
       "    <tr>\n",
       "      <th>5</th>\n",
       "      <td>5</td>\n",
       "      <td>6.007403</td>\n",
       "    </tr>\n",
       "    <tr>\n",
       "      <th>6</th>\n",
       "      <td>6</td>\n",
       "      <td>6.588187</td>\n",
       "    </tr>\n",
       "  </tbody>\n",
       "</table>\n",
       "</div>"
      ],
      "text/plain": [
       "   True Param  Estimated Param\n",
       "0           7         5.739974\n",
       "1           9         9.633738\n",
       "2           7         7.988455\n",
       "3           6         6.377402\n",
       "4           7         5.656691\n",
       "5           5         6.007403\n",
       "6           6         6.588187"
      ]
     },
     "execution_count": 47,
     "metadata": {},
     "output_type": "execute_result"
    }
   ],
   "source": [
    "true_params = [beta[idx] for idx in feature_idxs]\n",
    "params_df = pd.DataFrame({\"True Param\": true_params, \"Estimated Param\": model_params})\n",
    "params_df"
   ]
  }
 ],
 "metadata": {
  "kernelspec": {
   "display_name": "Python 3 (ipykernel)",
   "language": "python",
   "name": "python3"
  },
  "language_info": {
   "codemirror_mode": {
    "name": "ipython",
    "version": 3
   },
   "file_extension": ".py",
   "mimetype": "text/x-python",
   "name": "python",
   "nbconvert_exporter": "python",
   "pygments_lexer": "ipython3",
   "version": "3.9.7"
  }
 },
 "nbformat": 4,
 "nbformat_minor": 5
}
